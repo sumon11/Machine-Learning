{
 "cells": [
  {
   "cell_type": "markdown",
   "id": "8265b6fd",
   "metadata": {},
   "source": [
    "# Variables"
   ]
  },
  {
   "cell_type": "markdown",
   "id": "a728cf2e",
   "metadata": {},
   "source": [
    "Variables are entities of a program that holds a value. Here is an example of a variable:\n",
    "x=100 "
   ]
  },
  {
   "cell_type": "markdown",
   "id": "49d44a0b",
   "metadata": {},
   "source": [
    "The data type for a variable is the type of data it holds. \n",
    "In the above example, x is holding 100, which is a number, and the data type of x is a number."
   ]
  },
  {
   "cell_type": "markdown",
   "id": "1d7fc745",
   "metadata": {},
   "source": [
    "In Python, there are three types of numbers: Integer, Float, and Complex.\n",
    "Integers are numbers without decimal points. Floats are numbers with decimal points. Complex numbers have real parts and imaginary parts."
   ]
  },
  {
   "cell_type": "markdown",
   "id": "fb341a03",
   "metadata": {},
   "source": [
    "Another data type that is very different from a number is called a string, which is a collection of characters."
   ]
  },
  {
   "cell_type": "markdown",
   "id": "5199edff",
   "metadata": {},
   "source": [
    "Let’s see a variable with an integer data type:"
   ]
  },
  {
   "cell_type": "code",
   "execution_count": 1,
   "id": "17e7d106",
   "metadata": {},
   "outputs": [],
   "source": [
    "x = 100"
   ]
  },
  {
   "cell_type": "markdown",
   "id": "e0e35555",
   "metadata": {},
   "source": [
    "To check the data type of x, use the type() function:"
   ]
  },
  {
   "cell_type": "code",
   "execution_count": null,
   "id": "be20c71d",
   "metadata": {},
   "outputs": [],
   "source": [
    "type(x)"
   ]
  },
  {
   "cell_type": "markdown",
   "id": "790c2f12",
   "metadata": {},
   "source": [
    "Python allows you to assign variables while performing arithmetic operations."
   ]
  },
  {
   "cell_type": "code",
   "execution_count": 3,
   "id": "fce9a9d2",
   "metadata": {},
   "outputs": [],
   "source": [
    "x=654*6734"
   ]
  },
  {
   "cell_type": "markdown",
   "id": "73d60bd9",
   "metadata": {},
   "source": [
    "To display the output of the variable, use the print() function."
   ]
  },
  {
   "cell_type": "code",
   "execution_count": 5,
   "id": "16c00841",
   "metadata": {},
   "outputs": [
    {
     "name": "stdout",
     "output_type": "stream",
     "text": [
      "4404036\n"
     ]
    }
   ],
   "source": [
    "print(x)"
   ]
  },
  {
   "cell_type": "markdown",
   "id": "f5b4a186",
   "metadata": {},
   "source": [
    "Now, let’s see an example of a floating-point number:"
   ]
  },
  {
   "cell_type": "code",
   "execution_count": 6,
   "id": "c1138ea7",
   "metadata": {},
   "outputs": [
    {
     "data": {
      "text/plain": [
       "float"
      ]
     },
     "execution_count": 6,
     "metadata": {},
     "output_type": "execute_result"
    }
   ],
   "source": [
    "x = 3.14\n",
    "type(x)"
   ]
  },
  {
   "cell_type": "markdown",
   "id": "2cde4e8a",
   "metadata": {},
   "source": [
    "Strings are declared within a single or double quote."
   ]
  },
  {
   "cell_type": "code",
   "execution_count": 8,
   "id": "60acd140",
   "metadata": {},
   "outputs": [
    {
     "name": "stdout",
     "output_type": "stream",
     "text": [
      "Hello World\n",
      "Hello World\n"
     ]
    },
    {
     "data": {
      "text/plain": [
       "str"
      ]
     },
     "execution_count": 8,
     "metadata": {},
     "output_type": "execute_result"
    }
   ],
   "source": [
    "x = \"Hello World\"\n",
    "y = 'Hello World'\n",
    "print(x)\n",
    "print(y)\n",
    "type(x)\n",
    "type(y)"
   ]
  },
  {
   "cell_type": "markdown",
   "id": "8fd98f47",
   "metadata": {},
   "source": [
    "In all of the examples above, we only assigned a single value to the variables. Python has specific data types or objects that hold a collection of values, too. A Python List is one such example.\n",
    "Here is an example of a list:"
   ]
  },
  {
   "cell_type": "code",
   "execution_count": 9,
   "id": "86fa38f7",
   "metadata": {},
   "outputs": [
    {
     "name": "stdout",
     "output_type": "stream",
     "text": [
      "[1, 2, 3]\n"
     ]
    },
    {
     "data": {
      "text/plain": [
       "list"
      ]
     },
     "execution_count": 9,
     "metadata": {},
     "output_type": "execute_result"
    }
   ],
   "source": [
    "x = [1,2,3]\n",
    "print(x)\n",
    "type(x)"
   ]
  },
  {
   "cell_type": "markdown",
   "id": "94421ed4",
   "metadata": {},
   "source": [
    "You can extract the values from the list using the index position method. In lists, the first element index position starts at zero, the second element at one, the third element at two, and so on.\n",
    "To extract the first element from the list x:"
   ]
  },
  {
   "cell_type": "code",
   "execution_count": 10,
   "id": "769841db",
   "metadata": {},
   "outputs": [
    {
     "name": "stdout",
     "output_type": "stream",
     "text": [
      "1\n"
     ]
    }
   ],
   "source": [
    "print(x[0])"
   ]
  },
  {
   "cell_type": "markdown",
   "id": "62a5f2c9",
   "metadata": {},
   "source": [
    "Lists are mutable objects, which means you can change the values in a list once they are declared."
   ]
  },
  {
   "cell_type": "code",
   "execution_count": 11,
   "id": "fbd5b0a1",
   "metadata": {},
   "outputs": [
    {
     "name": "stdout",
     "output_type": "stream",
     "text": [
      "[1, 100, 3]\n"
     ]
    }
   ],
   "source": [
    "x[1] = 100\n",
    "print(x)"
   ]
  },
  {
   "cell_type": "markdown",
   "id": "61f1c37d",
   "metadata": {},
   "source": [
    "Tuples are a type of Python object that holds a collection of value, which is ordered and immutable. Unlike a list that uses a square bracket, tuples use parentheses."
   ]
  },
  {
   "cell_type": "code",
   "execution_count": 12,
   "id": "04e70034",
   "metadata": {},
   "outputs": [
    {
     "name": "stdout",
     "output_type": "stream",
     "text": [
      "(10, 20, 30)\n"
     ]
    },
    {
     "data": {
      "text/plain": [
       "tuple"
      ]
     },
     "execution_count": 12,
     "metadata": {},
     "output_type": "execute_result"
    }
   ],
   "source": [
    "a = (10,20,30)\n",
    "print(a)\n",
    "type(a)"
   ]
  },
  {
   "cell_type": "code",
   "execution_count": 13,
   "id": "a549afaa",
   "metadata": {},
   "outputs": [
    {
     "name": "stdout",
     "output_type": "stream",
     "text": [
      "20\n"
     ]
    }
   ],
   "source": [
    "print(a[1])"
   ]
  },
  {
   "cell_type": "markdown",
   "id": "5b8b1ad9",
   "metadata": {},
   "source": [
    "If you want to change any value in a tuple, it will throw an error. Once you have stored the values in a variable for a tuple, it remains the same."
   ]
  },
  {
   "cell_type": "code",
   "execution_count": 14,
   "id": "6a9fd3e7",
   "metadata": {},
   "outputs": [
    {
     "ename": "TypeError",
     "evalue": "'tuple' object does not support item assignment",
     "output_type": "error",
     "traceback": [
      "\u001b[1;31m---------------------------------------------------------------------------\u001b[0m",
      "\u001b[1;31mTypeError\u001b[0m                                 Traceback (most recent call last)",
      "\u001b[1;32mC:\\Users\\SUMONR~1\\AppData\\Local\\Temp/ipykernel_11908/3245524989.py\u001b[0m in \u001b[0;36m<module>\u001b[1;34m\u001b[0m\n\u001b[1;32m----> 1\u001b[1;33m \u001b[0ma\u001b[0m\u001b[1;33m[\u001b[0m\u001b[1;36m1\u001b[0m\u001b[1;33m]\u001b[0m \u001b[1;33m=\u001b[0m \u001b[1;36m50\u001b[0m\u001b[1;33m\u001b[0m\u001b[1;33m\u001b[0m\u001b[0m\n\u001b[0m",
      "\u001b[1;31mTypeError\u001b[0m: 'tuple' object does not support item assignment"
     ]
    }
   ],
   "source": [
    "a[1] = 50"
   ]
  },
  {
   "cell_type": "markdown",
   "id": "4156d753",
   "metadata": {},
   "source": [
    "Suppose you want to assign values to multiple variables. Instead of having multiple lines of code for each variable, you can assign it in a single line of code."
   ]
  },
  {
   "cell_type": "code",
   "execution_count": 15,
   "id": "89f7a9da",
   "metadata": {},
   "outputs": [],
   "source": [
    "x,y,z = 10,20,30"
   ]
  },
  {
   "cell_type": "code",
   "execution_count": 16,
   "id": "58cc08d0",
   "metadata": {},
   "outputs": [
    {
     "name": "stdout",
     "output_type": "stream",
     "text": [
      "20\n",
      "10\n",
      "30\n"
     ]
    }
   ],
   "source": [
    "print(y)\n",
    "print(x)\n",
    "print(z)"
   ]
  },
  {
   "cell_type": "markdown",
   "id": "844ad60f",
   "metadata": {},
   "source": [
    "The following line code results in an error because the number of values assigned doesn’t match with the number of variables declared."
   ]
  },
  {
   "cell_type": "code",
   "execution_count": 17,
   "id": "5d204fc7",
   "metadata": {},
   "outputs": [
    {
     "ename": "ValueError",
     "evalue": "too many values to unpack (expected 2)",
     "output_type": "error",
     "traceback": [
      "\u001b[1;31m---------------------------------------------------------------------------\u001b[0m",
      "\u001b[1;31mValueError\u001b[0m                                Traceback (most recent call last)",
      "\u001b[1;32mC:\\Users\\SUMONR~1\\AppData\\Local\\Temp/ipykernel_11908/2058267263.py\u001b[0m in \u001b[0;36m<module>\u001b[1;34m\u001b[0m\n\u001b[1;32m----> 1\u001b[1;33m \u001b[0mx\u001b[0m\u001b[1;33m,\u001b[0m\u001b[0my\u001b[0m \u001b[1;33m=\u001b[0m \u001b[1;36m10\u001b[0m\u001b[1;33m,\u001b[0m\u001b[1;36m20\u001b[0m\u001b[1;33m,\u001b[0m\u001b[1;36m30\u001b[0m\u001b[1;33m\u001b[0m\u001b[1;33m\u001b[0m\u001b[0m\n\u001b[0m",
      "\u001b[1;31mValueError\u001b[0m: too many values to unpack (expected 2)"
     ]
    }
   ],
   "source": [
    "x,y = 10,20,30"
   ]
  },
  {
   "cell_type": "markdown",
   "id": "ff22da9d",
   "metadata": {},
   "source": [
    "If you want to assign the same value to multiple variables, use the following syntax:"
   ]
  },
  {
   "cell_type": "code",
   "execution_count": 18,
   "id": "11dcc03c",
   "metadata": {},
   "outputs": [],
   "source": [
    "x = y = z = 1"
   ]
  },
  {
   "cell_type": "code",
   "execution_count": 19,
   "id": "c67549f6",
   "metadata": {},
   "outputs": [
    {
     "name": "stdout",
     "output_type": "stream",
     "text": [
      "1\n",
      "1\n",
      "1\n"
     ]
    }
   ],
   "source": [
    "print(x)\n",
    "print(y)\n",
    "print(z)"
   ]
  },
  {
   "cell_type": "markdown",
   "id": "722e3a95",
   "metadata": {},
   "source": [
    "Various rules for naming variable :\n",
    "1. A variable name must begin with a letter of the alphabet or an underscore(_)\n",
    "2. The first character can be followed by letters, numbers or underscores.\n",
    "3. Python variable names are case sensitive.\n",
    "4. Reserved words cannot be used as variable names.\n"
   ]
  },
  {
   "cell_type": "markdown",
   "id": "2664d949",
   "metadata": {},
   "source": [
    "# Python if...else Statement"
   ]
  },
  {
   "cell_type": "markdown",
   "id": "09ba2526",
   "metadata": {},
   "source": [
    "Decision making is required when we want to execute a code only if a certain condition is satisfied.\n",
    "The if…elif…else statement is used in Python for decision making."
   ]
  },
  {
   "cell_type": "markdown",
   "id": "651dc664",
   "metadata": {},
   "source": [
    "Python if Statement Syntax\n"
   ]
  },
  {
   "cell_type": "markdown",
   "id": "80c53c20",
   "metadata": {},
   "source": [
    "if test expression:\n",
    "    statement(s)"
   ]
  },
  {
   "cell_type": "markdown",
   "id": "1463e144",
   "metadata": {},
   "source": [
    "Example: Python if Statement"
   ]
  },
  {
   "cell_type": "code",
   "execution_count": 2,
   "id": "e1c800ff",
   "metadata": {},
   "outputs": [
    {
     "name": "stdout",
     "output_type": "stream",
     "text": [
      "Positive\n"
     ]
    }
   ],
   "source": [
    "num = 3\n",
    "if(num>0):\n",
    "    print(\"Positive\")\n",
    "else:\n",
    "    print(\"Negative\")"
   ]
  },
  {
   "cell_type": "markdown",
   "id": "0dc50154",
   "metadata": {},
   "source": [
    "Python if...elif...else Statement"
   ]
  },
  {
   "cell_type": "markdown",
   "id": "43ef080a",
   "metadata": {},
   "source": [
    "Python Nested if Example"
   ]
  },
  {
   "cell_type": "code",
   "execution_count": 3,
   "id": "1e0eed5c",
   "metadata": {},
   "outputs": [
    {
     "name": "stdout",
     "output_type": "stream",
     "text": [
      "Enter a number: 10\n",
      "Positive number\n"
     ]
    }
   ],
   "source": [
    "num = float(input(\"Enter a number: \"))\n",
    "if num >= 0:\n",
    "    if num == 0:\n",
    "        print(\"Zero\")\n",
    "    else:\n",
    "        print(\"Positive number\")\n",
    "else:\n",
    "    print(\"Negative number\")"
   ]
  },
  {
   "cell_type": "markdown",
   "id": "12556e5c",
   "metadata": {},
   "source": [
    "# Python for Loop"
   ]
  },
  {
   "cell_type": "markdown",
   "id": "21e5b440",
   "metadata": {},
   "source": [
    "The for loop in Python is used to iterate over a sequence (list, tuple, string) or other iterable objects. Iterating over a sequence is called traversal."
   ]
  },
  {
   "cell_type": "markdown",
   "id": "d37ca1ac",
   "metadata": {},
   "source": [
    "Example"
   ]
  },
  {
   "cell_type": "code",
   "execution_count": 7,
   "id": "c856dd0e",
   "metadata": {},
   "outputs": [
    {
     "name": "stdout",
     "output_type": "stream",
     "text": [
      "1\n",
      "2\n",
      "3\n",
      "4\n",
      "5\n",
      "6\n",
      "7\n",
      "8\n",
      "9\n",
      "10\n"
     ]
    }
   ],
   "source": [
    "for i in range(1, 11):\n",
    "    print(i)"
   ]
  },
  {
   "cell_type": "code",
   "execution_count": 11,
   "id": "ee431b06",
   "metadata": {},
   "outputs": [
    {
     "name": "stdout",
     "output_type": "stream",
     "text": [
      "The sum is : 100\n"
     ]
    }
   ],
   "source": [
    "numbers = [10,20,30,40]\n",
    "sum = 0\n",
    "for val in numbers:\n",
    "    sum = sum+val\n",
    "print(\"The sum is :\", sum)"
   ]
  },
  {
   "cell_type": "markdown",
   "id": "a7eafbe6",
   "metadata": {},
   "source": [
    "The range() function"
   ]
  },
  {
   "cell_type": "markdown",
   "id": "7dae9edf",
   "metadata": {},
   "source": [
    "We can generate a sequence of numbers using range() function. range(10) will generate numbers from 0 to 9 (10 numbers)."
   ]
  },
  {
   "cell_type": "markdown",
   "id": "27d109c5",
   "metadata": {},
   "source": [
    "We can also define the start, stop and step size as range(start, stop,step_size). step_size defaults to 1 if not provided."
   ]
  },
  {
   "cell_type": "code",
   "execution_count": 16,
   "id": "c05fa6d1",
   "metadata": {},
   "outputs": [
    {
     "name": "stdout",
     "output_type": "stream",
     "text": [
      "range(0, 10)\n",
      "[0, 1, 2, 3, 4, 5, 6, 7, 8, 9]\n",
      "[2, 3, 4, 5, 6, 7]\n",
      "[1, 4, 7, 10, 13, 16, 19]\n"
     ]
    }
   ],
   "source": [
    "print(range(10))\n",
    "print(list(range(0,10)))\n",
    "print(list(range(2,8)))\n",
    "print(list(range(1,20,3)))"
   ]
  },
  {
   "cell_type": "code",
   "execution_count": 18,
   "id": "14964d63",
   "metadata": {},
   "outputs": [
    {
     "name": "stdout",
     "output_type": "stream",
     "text": [
      "a\n",
      "b\n",
      "c\n"
     ]
    }
   ],
   "source": [
    "x = ['a','b','c']\n",
    "for i in range(len(x)):\n",
    "    print(x[i])"
   ]
  },
  {
   "cell_type": "code",
   "execution_count": null,
   "id": "9ead28e1",
   "metadata": {},
   "outputs": [],
   "source": []
  }
 ],
 "metadata": {
  "kernelspec": {
   "display_name": "Python 3 (ipykernel)",
   "language": "python",
   "name": "python3"
  },
  "language_info": {
   "codemirror_mode": {
    "name": "ipython",
    "version": 3
   },
   "file_extension": ".py",
   "mimetype": "text/x-python",
   "name": "python",
   "nbconvert_exporter": "python",
   "pygments_lexer": "ipython3",
   "version": "3.9.7"
  }
 },
 "nbformat": 4,
 "nbformat_minor": 5
}
