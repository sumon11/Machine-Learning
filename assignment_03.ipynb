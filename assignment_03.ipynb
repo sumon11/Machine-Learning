{
 "cells": [
  {
   "cell_type": "markdown",
   "id": "e73c5a70",
   "metadata": {},
   "source": [
    "# Python List"
   ]
  },
  {
   "cell_type": "markdown",
   "id": "51c87e31",
   "metadata": {},
   "source": [
    "Lists are used to store multiple items in a single variable.\n",
    "Lists are created using square brackets:"
   ]
  },
  {
   "cell_type": "code",
   "execution_count": 1,
   "id": "bf530a9e",
   "metadata": {},
   "outputs": [],
   "source": [
    "thisList = [\"apple\",\"banana\",\"mango\"]"
   ]
  },
  {
   "cell_type": "code",
   "execution_count": 2,
   "id": "4dbb2762",
   "metadata": {},
   "outputs": [
    {
     "data": {
      "text/plain": [
       "['apple', 'banana', 'mango']"
      ]
     },
     "execution_count": 2,
     "metadata": {},
     "output_type": "execute_result"
    }
   ],
   "source": [
    "thisList"
   ]
  },
  {
   "cell_type": "markdown",
   "id": "73c11343",
   "metadata": {},
   "source": [
    "# List Item"
   ]
  },
  {
   "cell_type": "raw",
   "id": "4e4a3bf1",
   "metadata": {},
   "source": [
    "List items are ordered, changeable, and allow duplicate values.\n",
    "List items are indexed, the first item has index [0], the second item has index [1] etc."
   ]
  },
  {
   "cell_type": "markdown",
   "id": "a6f38756",
   "metadata": {},
   "source": [
    "# Ordered"
   ]
  },
  {
   "cell_type": "raw",
   "id": "6369c592",
   "metadata": {},
   "source": [
    "When we say that lists are ordered, it means that the items have a defined order, and that order will not change.\n",
    "If you add new items to a list, the new items will be placed at the end of the list."
   ]
  },
  {
   "cell_type": "markdown",
   "id": "4f3d0570",
   "metadata": {},
   "source": [
    "# Changable"
   ]
  },
  {
   "cell_type": "raw",
   "id": "1668206e",
   "metadata": {},
   "source": [
    "The list is changeable, meaning that we can change, add, and remove items in a list after it has been created."
   ]
  },
  {
   "cell_type": "markdown",
   "id": "8a490eb1",
   "metadata": {},
   "source": [
    "# Allow Duplicate Values"
   ]
  },
  {
   "cell_type": "raw",
   "id": "dfc881f1",
   "metadata": {},
   "source": [
    "Since lists are indexed, lists can have items with the same value:"
   ]
  },
  {
   "cell_type": "raw",
   "id": "aaca4cf7",
   "metadata": {},
   "source": [
    "Example :\n",
    "Lists allow duplicate values:"
   ]
  },
  {
   "cell_type": "code",
   "execution_count": 3,
   "id": "1296722b",
   "metadata": {},
   "outputs": [],
   "source": [
    "thisList = [\"apple\",\"banana\", \"mango\", \"apple\"]"
   ]
  },
  {
   "cell_type": "code",
   "execution_count": 4,
   "id": "b7c92725",
   "metadata": {},
   "outputs": [
    {
     "data": {
      "text/plain": [
       "['apple', 'banana', 'mango', 'apple']"
      ]
     },
     "execution_count": 4,
     "metadata": {},
     "output_type": "execute_result"
    }
   ],
   "source": [
    "thisList"
   ]
  },
  {
   "cell_type": "markdown",
   "id": "c99e029f",
   "metadata": {},
   "source": [
    "# List Length"
   ]
  },
  {
   "cell_type": "code",
   "execution_count": 5,
   "id": "d3278a5b",
   "metadata": {},
   "outputs": [
    {
     "data": {
      "text/plain": [
       "4"
      ]
     },
     "execution_count": 5,
     "metadata": {},
     "output_type": "execute_result"
    }
   ],
   "source": [
    "len(thisList)"
   ]
  },
  {
   "cell_type": "markdown",
   "id": "ef963f5a",
   "metadata": {},
   "source": [
    "# List Items - Data Types"
   ]
  },
  {
   "cell_type": "raw",
   "id": "bbd4f264",
   "metadata": {},
   "source": [
    "List items can be of any data type:"
   ]
  },
  {
   "cell_type": "code",
   "execution_count": 8,
   "id": "f9b20547",
   "metadata": {},
   "outputs": [],
   "source": [
    "list1 = [\"apple\",\"mango\",\"banana\"]\n",
    "list2 = [1, 2, 3]\n",
    "list3 = [True, False, False]"
   ]
  },
  {
   "cell_type": "code",
   "execution_count": 10,
   "id": "e2cc7cf3",
   "metadata": {},
   "outputs": [
    {
     "data": {
      "text/plain": [
       "['apple', 'mango', 'banana']"
      ]
     },
     "execution_count": 10,
     "metadata": {},
     "output_type": "execute_result"
    }
   ],
   "source": [
    "list1"
   ]
  },
  {
   "cell_type": "code",
   "execution_count": 11,
   "id": "d40e315d",
   "metadata": {},
   "outputs": [
    {
     "data": {
      "text/plain": [
       "[1, 2, 3]"
      ]
     },
     "execution_count": 11,
     "metadata": {},
     "output_type": "execute_result"
    }
   ],
   "source": [
    "list2"
   ]
  },
  {
   "cell_type": "code",
   "execution_count": 12,
   "id": "43f510f8",
   "metadata": {},
   "outputs": [
    {
     "data": {
      "text/plain": [
       "[True, False, False]"
      ]
     },
     "execution_count": 12,
     "metadata": {},
     "output_type": "execute_result"
    }
   ],
   "source": [
    "list3"
   ]
  },
  {
   "cell_type": "raw",
   "id": "320430f3",
   "metadata": {},
   "source": [
    "A list can contain different data types:"
   ]
  },
  {
   "cell_type": "code",
   "execution_count": 13,
   "id": "afe02c69",
   "metadata": {},
   "outputs": [
    {
     "data": {
      "text/plain": [
       "['Apple', 1, True]"
      ]
     },
     "execution_count": 13,
     "metadata": {},
     "output_type": "execute_result"
    }
   ],
   "source": [
    "thisList = [\"Apple\", 1, True]\n",
    "thisList"
   ]
  },
  {
   "cell_type": "code",
   "execution_count": 14,
   "id": "c27b280e",
   "metadata": {},
   "outputs": [
    {
     "data": {
      "text/plain": [
       "list"
      ]
     },
     "execution_count": 14,
     "metadata": {},
     "output_type": "execute_result"
    }
   ],
   "source": [
    "type(thisList)"
   ]
  },
  {
   "cell_type": "markdown",
   "id": "ac8f343a",
   "metadata": {},
   "source": [
    "# Access List Items"
   ]
  },
  {
   "cell_type": "raw",
   "id": "d3e01ad4",
   "metadata": {},
   "source": [
    "List items are indexed and you can access them by referring to the index number:\n",
    "    Example :\n",
    "    Print the second item of the list:"
   ]
  },
  {
   "cell_type": "code",
   "execution_count": 16,
   "id": "7066d911",
   "metadata": {},
   "outputs": [
    {
     "data": {
      "text/plain": [
       "'banana'"
      ]
     },
     "execution_count": 16,
     "metadata": {},
     "output_type": "execute_result"
    }
   ],
   "source": [
    "thislist = [\"apple\", \"banana\", \"cherry\"]\n",
    "thislist[1]"
   ]
  },
  {
   "cell_type": "markdown",
   "id": "0940006e",
   "metadata": {},
   "source": [
    "# Negative Indexing"
   ]
  },
  {
   "cell_type": "raw",
   "id": "8b797e4c",
   "metadata": {},
   "source": [
    "Negative indexing means start from the end\n",
    "-1 refers to the last item, -2 refers to the second last item etc.\n",
    "Example :\n",
    "Print the last item of the list:"
   ]
  },
  {
   "cell_type": "code",
   "execution_count": 17,
   "id": "8f4e940c",
   "metadata": {},
   "outputs": [
    {
     "data": {
      "text/plain": [
       "'cherry'"
      ]
     },
     "execution_count": 17,
     "metadata": {},
     "output_type": "execute_result"
    }
   ],
   "source": [
    "thislist[-1]"
   ]
  },
  {
   "cell_type": "code",
   "execution_count": 18,
   "id": "9c45477a",
   "metadata": {},
   "outputs": [
    {
     "data": {
      "text/plain": [
       "'banana'"
      ]
     },
     "execution_count": 18,
     "metadata": {},
     "output_type": "execute_result"
    }
   ],
   "source": [
    "thislist[-2]"
   ]
  },
  {
   "cell_type": "markdown",
   "id": "b230be26",
   "metadata": {},
   "source": [
    "# Range of Indexes"
   ]
  },
  {
   "cell_type": "raw",
   "id": "bf72e047",
   "metadata": {},
   "source": [
    "You can specify a range of indexes by specifying where to start and where to end the range.\n",
    "When specifying a range, the return value will be a new list with the specified items.\n",
    "Example :\n",
    "Return the third, fourth, and fifth item:"
   ]
  },
  {
   "cell_type": "code",
   "execution_count": 20,
   "id": "ddffae41",
   "metadata": {},
   "outputs": [
    {
     "data": {
      "text/plain": [
       "['banana', 'cherry']"
      ]
     },
     "execution_count": 20,
     "metadata": {},
     "output_type": "execute_result"
    }
   ],
   "source": [
    "thislist[1:]"
   ]
  },
  {
   "cell_type": "code",
   "execution_count": 21,
   "id": "7bcfdcd6",
   "metadata": {},
   "outputs": [
    {
     "data": {
      "text/plain": [
       "['banana']"
      ]
     },
     "execution_count": 21,
     "metadata": {},
     "output_type": "execute_result"
    }
   ],
   "source": [
    "thislist[1:2]"
   ]
  },
  {
   "cell_type": "code",
   "execution_count": 22,
   "id": "821d9e26",
   "metadata": {},
   "outputs": [
    {
     "data": {
      "text/plain": [
       "['apple', 'banana', 'cherry']"
      ]
     },
     "execution_count": 22,
     "metadata": {},
     "output_type": "execute_result"
    }
   ],
   "source": [
    "thislist"
   ]
  },
  {
   "cell_type": "code",
   "execution_count": 24,
   "id": "29125a91",
   "metadata": {},
   "outputs": [
    {
     "data": {
      "text/plain": [
       "['banana']"
      ]
     },
     "execution_count": 24,
     "metadata": {},
     "output_type": "execute_result"
    }
   ],
   "source": [
    "thislist[-2:-1]"
   ]
  },
  {
   "cell_type": "markdown",
   "id": "916442ab",
   "metadata": {},
   "source": [
    "# Check if Item Exists"
   ]
  },
  {
   "cell_type": "code",
   "execution_count": 25,
   "id": "a3ff03b0",
   "metadata": {},
   "outputs": [
    {
     "name": "stdout",
     "output_type": "stream",
     "text": [
      "Yes\n"
     ]
    }
   ],
   "source": [
    "if \"apple\" in thislist:\n",
    "    print(\"Yes\")"
   ]
  },
  {
   "cell_type": "markdown",
   "id": "4ec200c7",
   "metadata": {},
   "source": [
    "# Change List Items"
   ]
  },
  {
   "cell_type": "code",
   "execution_count": 26,
   "id": "e9a03136",
   "metadata": {},
   "outputs": [],
   "source": [
    "thislist[1] = \"Mango\""
   ]
  },
  {
   "cell_type": "code",
   "execution_count": 27,
   "id": "2f7aa195",
   "metadata": {},
   "outputs": [
    {
     "data": {
      "text/plain": [
       "['apple', 'Mango', 'cherry']"
      ]
     },
     "execution_count": 27,
     "metadata": {},
     "output_type": "execute_result"
    }
   ],
   "source": [
    "thislist"
   ]
  },
  {
   "cell_type": "markdown",
   "id": "4b356166",
   "metadata": {},
   "source": [
    "# Change List Items"
   ]
  },
  {
   "cell_type": "code",
   "execution_count": 28,
   "id": "c7314706",
   "metadata": {},
   "outputs": [
    {
     "data": {
      "text/plain": [
       "['apple', 'Mango', 'cherry', 'Banana']"
      ]
     },
     "execution_count": 28,
     "metadata": {},
     "output_type": "execute_result"
    }
   ],
   "source": [
    "thislist.append(\"Banana\")\n",
    "thislist"
   ]
  },
  {
   "cell_type": "markdown",
   "id": "b0cec745",
   "metadata": {},
   "source": [
    "# Insert Items"
   ]
  },
  {
   "cell_type": "raw",
   "id": "40e4eec7",
   "metadata": {},
   "source": [
    "To insert a list item at a specified index, use the insert() method.\n",
    "The insert() method inserts an item at the specified index:"
   ]
  },
  {
   "cell_type": "code",
   "execution_count": 29,
   "id": "2d56c557",
   "metadata": {},
   "outputs": [],
   "source": [
    "thislist.insert(0,\"Orange\")"
   ]
  },
  {
   "cell_type": "code",
   "execution_count": 30,
   "id": "d9ba21ed",
   "metadata": {},
   "outputs": [
    {
     "data": {
      "text/plain": [
       "['Orange', 'apple', 'Mango', 'cherry', 'Banana']"
      ]
     },
     "execution_count": 30,
     "metadata": {},
     "output_type": "execute_result"
    }
   ],
   "source": [
    "thislist"
   ]
  },
  {
   "cell_type": "markdown",
   "id": "bf2731ed",
   "metadata": {},
   "source": [
    "# Extend List"
   ]
  },
  {
   "cell_type": "raw",
   "id": "f99702d2",
   "metadata": {},
   "source": [
    "To append elements from another list to the current list, use the extend() method.\n",
    "Example :\n",
    "Add the elements of tropical to thislist:"
   ]
  },
  {
   "cell_type": "code",
   "execution_count": 32,
   "id": "52b8e3cc",
   "metadata": {},
   "outputs": [],
   "source": [
    "numbers = [1,2,3]\n",
    "thislist.extend(numbers)"
   ]
  },
  {
   "cell_type": "code",
   "execution_count": 33,
   "id": "32ecc44b",
   "metadata": {},
   "outputs": [
    {
     "data": {
      "text/plain": [
       "['Orange', 'apple', 'Mango', 'cherry', 'Banana', 1, 2, 3]"
      ]
     },
     "execution_count": 33,
     "metadata": {},
     "output_type": "execute_result"
    }
   ],
   "source": [
    "thislist"
   ]
  },
  {
   "cell_type": "markdown",
   "id": "49579cf5",
   "metadata": {},
   "source": [
    "# Remove List Items"
   ]
  },
  {
   "cell_type": "raw",
   "id": "c908db95",
   "metadata": {},
   "source": [
    "The remove() method removes the specified item.\n",
    "Example :\n",
    "Remove \"banana\":"
   ]
  },
  {
   "cell_type": "code",
   "execution_count": 34,
   "id": "cddb19f8",
   "metadata": {},
   "outputs": [],
   "source": [
    "thislist.remove(1)"
   ]
  },
  {
   "cell_type": "code",
   "execution_count": 35,
   "id": "5361b249",
   "metadata": {},
   "outputs": [
    {
     "data": {
      "text/plain": [
       "['Orange', 'apple', 'Mango', 'cherry', 'Banana', 2, 3]"
      ]
     },
     "execution_count": 35,
     "metadata": {},
     "output_type": "execute_result"
    }
   ],
   "source": [
    "thislist"
   ]
  },
  {
   "cell_type": "raw",
   "id": "060857ad",
   "metadata": {},
   "source": [
    "The pop() method removes the specified index."
   ]
  },
  {
   "cell_type": "code",
   "execution_count": 36,
   "id": "cc4d7075",
   "metadata": {},
   "outputs": [
    {
     "data": {
      "text/plain": [
       "'apple'"
      ]
     },
     "execution_count": 36,
     "metadata": {},
     "output_type": "execute_result"
    }
   ],
   "source": [
    "thislist.pop(1)"
   ]
  },
  {
   "cell_type": "code",
   "execution_count": 37,
   "id": "1899d20d",
   "metadata": {},
   "outputs": [
    {
     "data": {
      "text/plain": [
       "['Orange', 'Mango', 'cherry', 'Banana', 2, 3]"
      ]
     },
     "execution_count": 37,
     "metadata": {},
     "output_type": "execute_result"
    }
   ],
   "source": [
    "thislist"
   ]
  },
  {
   "cell_type": "markdown",
   "id": "31bb98a2",
   "metadata": {},
   "source": [
    "# Clear the List"
   ]
  },
  {
   "cell_type": "raw",
   "id": "c5f22aca",
   "metadata": {},
   "source": [
    "The clear() method empties the list.\n",
    "The list still remains, but it has no content.\n",
    "Example :\n",
    "Clear the list content:"
   ]
  },
  {
   "cell_type": "code",
   "execution_count": 38,
   "id": "1fb4038f",
   "metadata": {},
   "outputs": [],
   "source": [
    "thislist.clear()"
   ]
  },
  {
   "cell_type": "code",
   "execution_count": 39,
   "id": "4f6205d6",
   "metadata": {},
   "outputs": [
    {
     "data": {
      "text/plain": [
       "[]"
      ]
     },
     "execution_count": 39,
     "metadata": {},
     "output_type": "execute_result"
    }
   ],
   "source": [
    "thislist"
   ]
  },
  {
   "cell_type": "markdown",
   "id": "fdbb81f5",
   "metadata": {},
   "source": [
    "# Loop Lists"
   ]
  },
  {
   "cell_type": "code",
   "execution_count": 40,
   "id": "11ffd21d",
   "metadata": {},
   "outputs": [
    {
     "data": {
      "text/plain": [
       "['Apple', 'Banana', 'Mango', 1, 2, 3]"
      ]
     },
     "execution_count": 40,
     "metadata": {},
     "output_type": "execute_result"
    }
   ],
   "source": [
    "thisList = [\"Apple\",\"Banana\",\"Mango\",1,2,3]\n",
    "thisList"
   ]
  },
  {
   "cell_type": "code",
   "execution_count": 41,
   "id": "d8cd1c43",
   "metadata": {},
   "outputs": [
    {
     "name": "stdout",
     "output_type": "stream",
     "text": [
      "Apple\n",
      "Banana\n",
      "Mango\n",
      "1\n",
      "2\n",
      "3\n"
     ]
    }
   ],
   "source": [
    "for x in thisList:\n",
    "    print(x)"
   ]
  },
  {
   "cell_type": "code",
   "execution_count": 42,
   "id": "5a702969",
   "metadata": {},
   "outputs": [
    {
     "name": "stdout",
     "output_type": "stream",
     "text": [
      "Apple\n",
      "Banana\n",
      "Mango\n",
      "1\n",
      "2\n",
      "3\n"
     ]
    }
   ],
   "source": [
    "for x in range(len(thisList)):\n",
    "    print(thisList[x])"
   ]
  },
  {
   "cell_type": "markdown",
   "id": "161e7c64",
   "metadata": {},
   "source": [
    "# Sort Lists"
   ]
  },
  {
   "cell_type": "code",
   "execution_count": 43,
   "id": "de231747",
   "metadata": {},
   "outputs": [
    {
     "ename": "TypeError",
     "evalue": "'<' not supported between instances of 'int' and 'str'",
     "output_type": "error",
     "traceback": [
      "\u001b[1;31m---------------------------------------------------------------------------\u001b[0m",
      "\u001b[1;31mTypeError\u001b[0m                                 Traceback (most recent call last)",
      "\u001b[1;32mC:\\Users\\SUMONR~1\\AppData\\Local\\Temp/ipykernel_7056/943133322.py\u001b[0m in \u001b[0;36m<module>\u001b[1;34m\u001b[0m\n\u001b[1;32m----> 1\u001b[1;33m \u001b[0mthisList\u001b[0m\u001b[1;33m.\u001b[0m\u001b[0msort\u001b[0m\u001b[1;33m(\u001b[0m\u001b[1;33m)\u001b[0m\u001b[1;33m\u001b[0m\u001b[1;33m\u001b[0m\u001b[0m\n\u001b[0m",
      "\u001b[1;31mTypeError\u001b[0m: '<' not supported between instances of 'int' and 'str'"
     ]
    }
   ],
   "source": [
    "thisList.sort()"
   ]
  },
  {
   "cell_type": "code",
   "execution_count": 44,
   "id": "61aeb888",
   "metadata": {},
   "outputs": [],
   "source": [
    "thisList = [1,5,7,4,10]\n",
    "thisList.sort()"
   ]
  },
  {
   "cell_type": "code",
   "execution_count": 45,
   "id": "123b7d82",
   "metadata": {},
   "outputs": [
    {
     "data": {
      "text/plain": [
       "[1, 4, 5, 7, 10]"
      ]
     },
     "execution_count": 45,
     "metadata": {},
     "output_type": "execute_result"
    }
   ],
   "source": [
    "thisList"
   ]
  },
  {
   "cell_type": "code",
   "execution_count": 46,
   "id": "155384f8",
   "metadata": {},
   "outputs": [],
   "source": [
    "thisList.sort(reverse = True)"
   ]
  },
  {
   "cell_type": "code",
   "execution_count": 47,
   "id": "a26ed64a",
   "metadata": {},
   "outputs": [
    {
     "data": {
      "text/plain": [
       "[10, 7, 5, 4, 1]"
      ]
     },
     "execution_count": 47,
     "metadata": {},
     "output_type": "execute_result"
    }
   ],
   "source": [
    "thisList"
   ]
  },
  {
   "cell_type": "markdown",
   "id": "ff6f138e",
   "metadata": {},
   "source": [
    "# Copy Lists"
   ]
  },
  {
   "cell_type": "code",
   "execution_count": 50,
   "id": "9ee85d06",
   "metadata": {},
   "outputs": [],
   "source": [
    "myList = []\n",
    "myList = thisList.copy()"
   ]
  },
  {
   "cell_type": "code",
   "execution_count": 51,
   "id": "2a884111",
   "metadata": {},
   "outputs": [
    {
     "data": {
      "text/plain": [
       "[10, 7, 5, 4, 1]"
      ]
     },
     "execution_count": 51,
     "metadata": {},
     "output_type": "execute_result"
    }
   ],
   "source": [
    "myList"
   ]
  },
  {
   "cell_type": "markdown",
   "id": "748b6ec4",
   "metadata": {},
   "source": [
    "# Join Lists"
   ]
  },
  {
   "cell_type": "raw",
   "id": "9f573e94",
   "metadata": {},
   "source": [
    "There are several ways to join, or concatenate, two or more lists in Python.\n",
    "One of the easiest ways are by using the + operator.\n",
    "Another way to join two lists is by appending all the items from list2 into list1, one by one.\n",
    "Or you can use the extend() method, which purpose is to add elements from one list to another list:"
   ]
  },
  {
   "cell_type": "code",
   "execution_count": 52,
   "id": "fd4dd205",
   "metadata": {},
   "outputs": [],
   "source": [
    "list1 = [\"a\",\"b\",\"c\"]\n",
    "list2 = [1,2,3]\n",
    "list3 = list1+list2"
   ]
  },
  {
   "cell_type": "code",
   "execution_count": 53,
   "id": "e6232780",
   "metadata": {},
   "outputs": [
    {
     "data": {
      "text/plain": [
       "['a', 'b', 'c', 1, 2, 3]"
      ]
     },
     "execution_count": 53,
     "metadata": {},
     "output_type": "execute_result"
    }
   ],
   "source": [
    "list3"
   ]
  },
  {
   "cell_type": "code",
   "execution_count": 55,
   "id": "77f8e535",
   "metadata": {},
   "outputs": [],
   "source": [
    "for x in list2 :\n",
    "    list1.append(x)"
   ]
  },
  {
   "cell_type": "code",
   "execution_count": 56,
   "id": "f499c69d",
   "metadata": {},
   "outputs": [
    {
     "data": {
      "text/plain": [
       "['a', 'b', 'c', 1, 2, 3]"
      ]
     },
     "execution_count": 56,
     "metadata": {},
     "output_type": "execute_result"
    }
   ],
   "source": [
    "list1"
   ]
  },
  {
   "cell_type": "code",
   "execution_count": 58,
   "id": "cfd86a37",
   "metadata": {},
   "outputs": [],
   "source": [
    "list1.extend(list2)"
   ]
  },
  {
   "cell_type": "code",
   "execution_count": 59,
   "id": "f5871d80",
   "metadata": {},
   "outputs": [
    {
     "data": {
      "text/plain": [
       "['a', 'b', 'c', 1, 2, 3, 1, 2, 3]"
      ]
     },
     "execution_count": 59,
     "metadata": {},
     "output_type": "execute_result"
    }
   ],
   "source": [
    "list1"
   ]
  },
  {
   "cell_type": "markdown",
   "id": "4e7c54f2",
   "metadata": {},
   "source": [
    "# Python Tuples"
   ]
  },
  {
   "cell_type": "raw",
   "id": "683f48f4",
   "metadata": {},
   "source": [
    "Tuples are used to store multiple items in a single variable.\n",
    "Tuple is one of 4 built-in data types in Python used to store collections of data, the other 3 are List, Set, and Dictionary, all with different qualities and usage.\n",
    "A tuple is a collection which is ordered and unchangeable.\n",
    "Tuples are written with round brackets.\n",
    "Example :\n",
    "Create a Tuple:"
   ]
  },
  {
   "cell_type": "code",
   "execution_count": 60,
   "id": "ad0d2c3a",
   "metadata": {},
   "outputs": [
    {
     "data": {
      "text/plain": [
       "('apple', 'banana', 'mango')"
      ]
     },
     "execution_count": 60,
     "metadata": {},
     "output_type": "execute_result"
    }
   ],
   "source": [
    "tupleEx = (\"apple\",\"banana\",\"mango\")\n",
    "tupleEx"
   ]
  },
  {
   "cell_type": "raw",
   "id": "73bb5303",
   "metadata": {},
   "source": [
    "Tuple items are ordered, unchangeable, and allow duplicate values.\n",
    "Tuple items are indexed, the first item has index [0], the second item has index [1] etc.\n",
    "\n",
    "Ordered :\n",
    "When we say that tuples are ordered, it means that the items have a defined order, and that order will not change.\n",
    "\n",
    "Unchangeable :\n",
    "Tuples are unchangeable, meaning that we cannot change, add or remove items after the tuple has been created.\n",
    "\n",
    "Allow Duplicates :\n",
    "Since tuples are indexed, they can have items with the same value:"
   ]
  },
  {
   "cell_type": "markdown",
   "id": "dfb13c7e",
   "metadata": {},
   "source": [
    "# Allow Duplicates"
   ]
  },
  {
   "cell_type": "code",
   "execution_count": 61,
   "id": "b07ea8c0",
   "metadata": {},
   "outputs": [],
   "source": [
    "tupleEx = (\"apple\",\"apple\",\"banana\")"
   ]
  },
  {
   "cell_type": "code",
   "execution_count": 62,
   "id": "6cbe61e7",
   "metadata": {},
   "outputs": [
    {
     "data": {
      "text/plain": [
       "('apple', 'apple', 'banana')"
      ]
     },
     "execution_count": 62,
     "metadata": {},
     "output_type": "execute_result"
    }
   ],
   "source": [
    "tupleEx"
   ]
  },
  {
   "cell_type": "markdown",
   "id": "f69bbdf8",
   "metadata": {},
   "source": [
    "# Tuple Length"
   ]
  },
  {
   "cell_type": "code",
   "execution_count": 65,
   "id": "38a74fcb",
   "metadata": {},
   "outputs": [
    {
     "data": {
      "text/plain": [
       "3"
      ]
     },
     "execution_count": 65,
     "metadata": {},
     "output_type": "execute_result"
    }
   ],
   "source": [
    "len(tupleEx)"
   ]
  },
  {
   "cell_type": "code",
   "execution_count": 66,
   "id": "d29b4562",
   "metadata": {},
   "outputs": [
    {
     "data": {
      "text/plain": [
       "tuple"
      ]
     },
     "execution_count": 66,
     "metadata": {},
     "output_type": "execute_result"
    }
   ],
   "source": [
    "type(tupleEx)"
   ]
  },
  {
   "cell_type": "markdown",
   "id": "17a2c41f",
   "metadata": {},
   "source": [
    "# Access Tuple Items"
   ]
  },
  {
   "cell_type": "code",
   "execution_count": 67,
   "id": "d68c9a75",
   "metadata": {},
   "outputs": [
    {
     "data": {
      "text/plain": [
       "'apple'"
      ]
     },
     "execution_count": 67,
     "metadata": {},
     "output_type": "execute_result"
    }
   ],
   "source": [
    "tupleEx[1]"
   ]
  },
  {
   "cell_type": "markdown",
   "id": "45d91d46",
   "metadata": {},
   "source": [
    "# Negative Indexing"
   ]
  },
  {
   "cell_type": "raw",
   "id": "8af70b0e",
   "metadata": {},
   "source": [
    "Negative indexing means start from the end.\n",
    "-1 refers to the last item, -2 refers to the second last item etc."
   ]
  },
  {
   "cell_type": "code",
   "execution_count": 68,
   "id": "acc6e151",
   "metadata": {},
   "outputs": [
    {
     "data": {
      "text/plain": [
       "'apple'"
      ]
     },
     "execution_count": 68,
     "metadata": {},
     "output_type": "execute_result"
    }
   ],
   "source": [
    "tupleEx[-2]"
   ]
  },
  {
   "cell_type": "markdown",
   "id": "e44cb89f",
   "metadata": {},
   "source": [
    "# Range of Indexes"
   ]
  },
  {
   "cell_type": "code",
   "execution_count": 69,
   "id": "0c4c0a68",
   "metadata": {},
   "outputs": [
    {
     "data": {
      "text/plain": [
       "('apple',)"
      ]
     },
     "execution_count": 69,
     "metadata": {},
     "output_type": "execute_result"
    }
   ],
   "source": [
    "tupleEx[1:2]"
   ]
  },
  {
   "cell_type": "markdown",
   "id": "7da272a1",
   "metadata": {},
   "source": [
    "# Unpack Tuples"
   ]
  },
  {
   "cell_type": "raw",
   "id": "bcb3c9a0",
   "metadata": {},
   "source": [
    "Example :\n",
    "Unpacking a tuple:"
   ]
  },
  {
   "cell_type": "code",
   "execution_count": 70,
   "id": "0677fbf2",
   "metadata": {},
   "outputs": [
    {
     "data": {
      "text/plain": [
       "('apple', 'apple', 'banana')"
      ]
     },
     "execution_count": 70,
     "metadata": {},
     "output_type": "execute_result"
    }
   ],
   "source": [
    "tupleEx"
   ]
  },
  {
   "cell_type": "code",
   "execution_count": 73,
   "id": "c1e65a9d",
   "metadata": {},
   "outputs": [
    {
     "name": "stdout",
     "output_type": "stream",
     "text": [
      "apple\n",
      "banana\n",
      "cherry\n"
     ]
    }
   ],
   "source": [
    "fruits = (\"apple\", \"banana\", \"cherry\")\n",
    "\n",
    "(green, yellow, red) = fruits\n",
    "\n",
    "print(green)\n",
    "print(yellow)\n",
    "print(red)"
   ]
  },
  {
   "cell_type": "code",
   "execution_count": 74,
   "id": "d0067206",
   "metadata": {},
   "outputs": [
    {
     "name": "stdout",
     "output_type": "stream",
     "text": [
      "cherry\n"
     ]
    }
   ],
   "source": [
    "(green,*red)\n",
    "print(red)"
   ]
  },
  {
   "cell_type": "code",
   "execution_count": 75,
   "id": "15211007",
   "metadata": {},
   "outputs": [
    {
     "name": "stdout",
     "output_type": "stream",
     "text": [
      "apple\n"
     ]
    }
   ],
   "source": [
    "print(green)"
   ]
  },
  {
   "cell_type": "markdown",
   "id": "1e56227c",
   "metadata": {},
   "source": [
    "# Loop Tuples"
   ]
  },
  {
   "cell_type": "code",
   "execution_count": 76,
   "id": "6d7898e7",
   "metadata": {},
   "outputs": [
    {
     "data": {
      "text/plain": [
       "('apple', 'apple', 'banana')"
      ]
     },
     "execution_count": 76,
     "metadata": {},
     "output_type": "execute_result"
    }
   ],
   "source": [
    "tupleEx"
   ]
  },
  {
   "cell_type": "code",
   "execution_count": 79,
   "id": "efafa2ba",
   "metadata": {},
   "outputs": [
    {
     "name": "stdout",
     "output_type": "stream",
     "text": [
      "apple\n",
      "apple\n",
      "banana\n"
     ]
    }
   ],
   "source": [
    "for x in tupleEx:\n",
    "    print(x)"
   ]
  },
  {
   "cell_type": "code",
   "execution_count": 81,
   "id": "e04d2a3a",
   "metadata": {},
   "outputs": [
    {
     "name": "stdout",
     "output_type": "stream",
     "text": [
      "apple\n",
      "apple\n",
      "banana\n"
     ]
    }
   ],
   "source": [
    "for x in range(len(tupleEx)):\n",
    "    print(tupleEx[x])"
   ]
  },
  {
   "cell_type": "markdown",
   "id": "e8903c02",
   "metadata": {},
   "source": [
    "# Join Tuples"
   ]
  },
  {
   "cell_type": "code",
   "execution_count": 82,
   "id": "e7ee53fd",
   "metadata": {},
   "outputs": [
    {
     "data": {
      "text/plain": [
       "[1, 2, 3, 'a', 'b', 'c']"
      ]
     },
     "execution_count": 82,
     "metadata": {},
     "output_type": "execute_result"
    }
   ],
   "source": [
    "tuple1 = [1,2,3]\n",
    "tuple2 = [\"a\",\"b\",\"c\"]\n",
    "tuple1+tuple2"
   ]
  },
  {
   "cell_type": "code",
   "execution_count": 83,
   "id": "f6999fc5",
   "metadata": {},
   "outputs": [],
   "source": [
    "tuple1.extend(tuple2)"
   ]
  },
  {
   "cell_type": "code",
   "execution_count": 84,
   "id": "f230e0c7",
   "metadata": {},
   "outputs": [
    {
     "data": {
      "text/plain": [
       "[1, 2, 3, 'a', 'b', 'c']"
      ]
     },
     "execution_count": 84,
     "metadata": {},
     "output_type": "execute_result"
    }
   ],
   "source": [
    "tuple1"
   ]
  },
  {
   "cell_type": "markdown",
   "id": "3aaed100",
   "metadata": {},
   "source": [
    "# SET"
   ]
  },
  {
   "cell_type": "raw",
   "id": "51195807",
   "metadata": {},
   "source": [
    "Sets are used to store multiple items in a single variable.\n",
    "Set is one of 4 built-in data types in Python used to store collections of data, the other 3 are List, Tuple, and Dictionary, all with different qualities and usage.\n",
    "A set is a collection which is unordered, unchangeable*, and unindexed.\n",
    "* Note: Set items are unchangeable, but you can remove items and add new items.\n",
    "Sets are written with curly brackets."
   ]
  },
  {
   "cell_type": "code",
   "execution_count": 86,
   "id": "0212da1a",
   "metadata": {},
   "outputs": [
    {
     "data": {
      "text/plain": [
       "{'a', 'b', 'c'}"
      ]
     },
     "execution_count": 86,
     "metadata": {},
     "output_type": "execute_result"
    }
   ],
   "source": [
    "thisSet = {\"a\",\"b\",\"c\",\"c\"}\n",
    "thisSet"
   ]
  },
  {
   "cell_type": "markdown",
   "id": "ad8d594b",
   "metadata": {},
   "source": [
    "# Get the Length of a Set"
   ]
  },
  {
   "cell_type": "code",
   "execution_count": 87,
   "id": "95c633ab",
   "metadata": {},
   "outputs": [
    {
     "data": {
      "text/plain": [
       "3"
      ]
     },
     "execution_count": 87,
     "metadata": {},
     "output_type": "execute_result"
    }
   ],
   "source": [
    "len(thisSet)"
   ]
  },
  {
   "cell_type": "markdown",
   "id": "f1da92e6",
   "metadata": {},
   "source": [
    "# Set Items - Data Types"
   ]
  },
  {
   "cell_type": "code",
   "execution_count": 92,
   "id": "e81b048c",
   "metadata": {},
   "outputs": [],
   "source": [
    "set1 = {1,2,3}\n",
    "set2 = {\"a\",\"b\",\"c\"}\n",
    "set3 = {True,False,True}"
   ]
  },
  {
   "cell_type": "code",
   "execution_count": 93,
   "id": "a5b8eaef",
   "metadata": {},
   "outputs": [
    {
     "data": {
      "text/plain": [
       "{1, 2, 3}"
      ]
     },
     "execution_count": 93,
     "metadata": {},
     "output_type": "execute_result"
    }
   ],
   "source": [
    "set1\n"
   ]
  },
  {
   "cell_type": "code",
   "execution_count": 94,
   "id": "3e333978",
   "metadata": {},
   "outputs": [
    {
     "data": {
      "text/plain": [
       "{False, True}"
      ]
     },
     "execution_count": 94,
     "metadata": {},
     "output_type": "execute_result"
    }
   ],
   "source": [
    "set3"
   ]
  },
  {
   "cell_type": "code",
   "execution_count": 95,
   "id": "a72e9aab",
   "metadata": {},
   "outputs": [
    {
     "data": {
      "text/plain": [
       "{'a', 'b', 'c'}"
      ]
     },
     "execution_count": 95,
     "metadata": {},
     "output_type": "execute_result"
    }
   ],
   "source": [
    "set2"
   ]
  },
  {
   "cell_type": "markdown",
   "id": "0cfb10c4",
   "metadata": {},
   "source": [
    "# Access Set Items"
   ]
  },
  {
   "cell_type": "code",
   "execution_count": 96,
   "id": "d7e3e643",
   "metadata": {},
   "outputs": [
    {
     "name": "stdout",
     "output_type": "stream",
     "text": [
      "a\n",
      "b\n",
      "c\n"
     ]
    }
   ],
   "source": [
    "for x in set2 :\n",
    "    print(x)"
   ]
  },
  {
   "cell_type": "markdown",
   "id": "0d3756b9",
   "metadata": {},
   "source": [
    "# Add Set Items"
   ]
  },
  {
   "cell_type": "code",
   "execution_count": 98,
   "id": "669844c7",
   "metadata": {},
   "outputs": [],
   "source": [
    "set2.add(\"d\")"
   ]
  },
  {
   "cell_type": "code",
   "execution_count": 99,
   "id": "397ef753",
   "metadata": {},
   "outputs": [
    {
     "data": {
      "text/plain": [
       "{'a', 'b', 'c', 'd'}"
      ]
     },
     "execution_count": 99,
     "metadata": {},
     "output_type": "execute_result"
    }
   ],
   "source": [
    "set2"
   ]
  },
  {
   "cell_type": "markdown",
   "id": "73ee9745",
   "metadata": {},
   "source": [
    "# Add Sets"
   ]
  },
  {
   "cell_type": "code",
   "execution_count": 100,
   "id": "04c01815",
   "metadata": {},
   "outputs": [],
   "source": [
    "set1.update(set2)"
   ]
  },
  {
   "cell_type": "code",
   "execution_count": 101,
   "id": "0b8d3306",
   "metadata": {},
   "outputs": [
    {
     "data": {
      "text/plain": [
       "{1, 2, 3, 'a', 'b', 'c', 'd'}"
      ]
     },
     "execution_count": 101,
     "metadata": {},
     "output_type": "execute_result"
    }
   ],
   "source": [
    "set1"
   ]
  },
  {
   "cell_type": "markdown",
   "id": "1923bbb5",
   "metadata": {},
   "source": [
    "# Remove Set Items"
   ]
  },
  {
   "cell_type": "code",
   "execution_count": 102,
   "id": "d9fb2b6c",
   "metadata": {},
   "outputs": [],
   "source": [
    "set1.remove(1)"
   ]
  },
  {
   "cell_type": "code",
   "execution_count": 103,
   "id": "49584fe2",
   "metadata": {},
   "outputs": [
    {
     "data": {
      "text/plain": [
       "{2, 3, 'a', 'b', 'c', 'd'}"
      ]
     },
     "execution_count": 103,
     "metadata": {},
     "output_type": "execute_result"
    }
   ],
   "source": [
    "set1"
   ]
  },
  {
   "cell_type": "raw",
   "id": "7af7595e",
   "metadata": {},
   "source": [
    "The clear() method empties the set.\n",
    "The del keyword will delete the set completel."
   ]
  },
  {
   "cell_type": "code",
   "execution_count": 104,
   "id": "11bd6150",
   "metadata": {},
   "outputs": [],
   "source": [
    "set1.clear()"
   ]
  },
  {
   "cell_type": "code",
   "execution_count": 105,
   "id": "bbcb1de6",
   "metadata": {},
   "outputs": [
    {
     "data": {
      "text/plain": [
       "set()"
      ]
     },
     "execution_count": 105,
     "metadata": {},
     "output_type": "execute_result"
    }
   ],
   "source": [
    "set1"
   ]
  },
  {
   "cell_type": "code",
   "execution_count": 107,
   "id": "5fb02c1e",
   "metadata": {},
   "outputs": [],
   "source": [
    "del set1"
   ]
  },
  {
   "cell_type": "markdown",
   "id": "5b0d72b3",
   "metadata": {},
   "source": [
    "# Loop Sets"
   ]
  },
  {
   "cell_type": "code",
   "execution_count": 109,
   "id": "1a99011a",
   "metadata": {},
   "outputs": [
    {
     "name": "stdout",
     "output_type": "stream",
     "text": [
      "d\n",
      "a\n",
      "b\n",
      "c\n"
     ]
    }
   ],
   "source": [
    "for x in set2:\n",
    "    print(x)"
   ]
  },
  {
   "cell_type": "markdown",
   "id": "67fea7a5",
   "metadata": {},
   "source": [
    "# Dictionary"
   ]
  },
  {
   "cell_type": "raw",
   "id": "905fe1db",
   "metadata": {},
   "source": [
    "Dictionaries are used to store data values in key:value pairs.\n",
    "A dictionary is a collection which is ordered*, changeable and do not allow duplicates.\n",
    "Dictionaries are written with curly brackets, and have keys and values:"
   ]
  },
  {
   "cell_type": "code",
   "execution_count": 111,
   "id": "1b92a588",
   "metadata": {},
   "outputs": [
    {
     "data": {
      "text/plain": [
       "{'Model': 'Toyota', 'Year': 2021}"
      ]
     },
     "execution_count": 111,
     "metadata": {},
     "output_type": "execute_result"
    }
   ],
   "source": [
    "dictEx = {\"Model\": \"Toyota\",\n",
    "         \"Year\": 2021}\n",
    "dictEx"
   ]
  },
  {
   "cell_type": "code",
   "execution_count": 113,
   "id": "2750b1c7",
   "metadata": {},
   "outputs": [
    {
     "data": {
      "text/plain": [
       "'Toyota'"
      ]
     },
     "execution_count": 113,
     "metadata": {},
     "output_type": "execute_result"
    }
   ],
   "source": [
    "dictEx[\"Model\"]"
   ]
  },
  {
   "cell_type": "markdown",
   "id": "6184d0fe",
   "metadata": {},
   "source": [
    "# Ordered or Unordered?"
   ]
  },
  {
   "cell_type": "raw",
   "id": "50cfe335",
   "metadata": {},
   "source": [
    "When we say that dictionaries are ordered, it means that the items have a defined order, and that order will not change.\n",
    "Unordered means that the items does not have a defined order, you cannot refer to an item by using an index."
   ]
  },
  {
   "cell_type": "markdown",
   "id": "a374cab3",
   "metadata": {},
   "source": [
    "# Changeable"
   ]
  },
  {
   "cell_type": "raw",
   "id": "8b10de28",
   "metadata": {},
   "source": [
    "Dictionaries are changeable, meaning that we can change, add or remove items after the dictionary has been created."
   ]
  },
  {
   "cell_type": "markdown",
   "id": "636b213a",
   "metadata": {},
   "source": [
    "# Duplicates Not Allowed"
   ]
  },
  {
   "cell_type": "raw",
   "id": "f7e2260e",
   "metadata": {},
   "source": [
    "Dictionaries cannot have two items with the same key:\n",
    "Example :\n",
    "Duplicate values will overwrite existing values:"
   ]
  },
  {
   "cell_type": "code",
   "execution_count": 115,
   "id": "ae07b37c",
   "metadata": {},
   "outputs": [
    {
     "data": {
      "text/plain": [
       "{'brand': 'Ford', 'model': 'Mustang', 'year': 2020, 'listEx': [1, 2, 3]}"
      ]
     },
     "execution_count": 115,
     "metadata": {},
     "output_type": "execute_result"
    }
   ],
   "source": [
    "thisdict =\t{\n",
    "  \"brand\": \"Ford\",\n",
    "  \"model\": \"Mustang\",\n",
    "  \"year\": 1964,\n",
    "  \"year\": 2020,\n",
    "  \"listEx\":[1,2,3]\n",
    "}\n",
    "thisdict"
   ]
  },
  {
   "cell_type": "markdown",
   "id": "1445da93",
   "metadata": {},
   "source": [
    "# Dictionary Items - Data Types"
   ]
  },
  {
   "cell_type": "raw",
   "id": "e4bd39c7",
   "metadata": {},
   "source": [
    "The values in dictionary items can be of any data type:\n",
    "Example :\n",
    "String, int, boolean, and list data types:"
   ]
  },
  {
   "cell_type": "markdown",
   "id": "685f72eb",
   "metadata": {},
   "source": [
    "# Access Dictionary Items"
   ]
  },
  {
   "cell_type": "raw",
   "id": "0cab0f20",
   "metadata": {},
   "source": [
    "You can access the items of a dictionary by referring to its key name, inside square brackets:\n",
    "Example :\n",
    "Get the value of the \"model\" key:"
   ]
  },
  {
   "cell_type": "code",
   "execution_count": 116,
   "id": "1a56f7ea",
   "metadata": {},
   "outputs": [
    {
     "data": {
      "text/plain": [
       "'Ford'"
      ]
     },
     "execution_count": 116,
     "metadata": {},
     "output_type": "execute_result"
    }
   ],
   "source": [
    "thisdict[\"brand\"]"
   ]
  },
  {
   "cell_type": "code",
   "execution_count": 117,
   "id": "e3d957e3",
   "metadata": {},
   "outputs": [
    {
     "data": {
      "text/plain": [
       "'Ford'"
      ]
     },
     "execution_count": 117,
     "metadata": {},
     "output_type": "execute_result"
    }
   ],
   "source": [
    "x = thisdict.get(\"brand\")\n",
    "x"
   ]
  },
  {
   "cell_type": "markdown",
   "id": "d3cd4706",
   "metadata": {},
   "source": [
    "# Get Keys"
   ]
  },
  {
   "cell_type": "code",
   "execution_count": 118,
   "id": "d71d3d60",
   "metadata": {},
   "outputs": [
    {
     "data": {
      "text/plain": [
       "dict_keys(['brand', 'model', 'year', 'listEx'])"
      ]
     },
     "execution_count": 118,
     "metadata": {},
     "output_type": "execute_result"
    }
   ],
   "source": [
    "thisdict.keys()"
   ]
  },
  {
   "cell_type": "code",
   "execution_count": 119,
   "id": "c40ba7a9",
   "metadata": {},
   "outputs": [
    {
     "data": {
      "text/plain": [
       "dict_items([('brand', 'Ford'), ('model', 'Mustang'), ('year', 2020), ('listEx', [1, 2, 3])])"
      ]
     },
     "execution_count": 119,
     "metadata": {},
     "output_type": "execute_result"
    }
   ],
   "source": [
    "thisdict.items()"
   ]
  },
  {
   "cell_type": "markdown",
   "id": "71de258b",
   "metadata": {},
   "source": [
    "# Data Frame"
   ]
  },
  {
   "cell_type": "raw",
   "id": "79a009ca",
   "metadata": {},
   "source": [
    "A Pandas DataFrame is a 2 dimensional data structure, like a 2 dimensional array, or a table with rows and columns.\n",
    "Example :\n",
    "Create a simple Pandas DataFrame:"
   ]
  },
  {
   "cell_type": "code",
   "execution_count": 1,
   "id": "41efb200",
   "metadata": {},
   "outputs": [],
   "source": [
    "import pandas as pd"
   ]
  },
  {
   "cell_type": "code",
   "execution_count": 2,
   "id": "1c25ecde",
   "metadata": {},
   "outputs": [
    {
     "data": {
      "text/html": [
       "<div>\n",
       "<style scoped>\n",
       "    .dataframe tbody tr th:only-of-type {\n",
       "        vertical-align: middle;\n",
       "    }\n",
       "\n",
       "    .dataframe tbody tr th {\n",
       "        vertical-align: top;\n",
       "    }\n",
       "\n",
       "    .dataframe thead th {\n",
       "        text-align: right;\n",
       "    }\n",
       "</style>\n",
       "<table border=\"1\" class=\"dataframe\">\n",
       "  <thead>\n",
       "    <tr style=\"text-align: right;\">\n",
       "      <th></th>\n",
       "      <th>calories</th>\n",
       "      <th>duration</th>\n",
       "    </tr>\n",
       "  </thead>\n",
       "  <tbody>\n",
       "    <tr>\n",
       "      <th>0</th>\n",
       "      <td>420</td>\n",
       "      <td>50</td>\n",
       "    </tr>\n",
       "    <tr>\n",
       "      <th>1</th>\n",
       "      <td>380</td>\n",
       "      <td>40</td>\n",
       "    </tr>\n",
       "    <tr>\n",
       "      <th>2</th>\n",
       "      <td>390</td>\n",
       "      <td>45</td>\n",
       "    </tr>\n",
       "  </tbody>\n",
       "</table>\n",
       "</div>"
      ],
      "text/plain": [
       "   calories  duration\n",
       "0       420        50\n",
       "1       380        40\n",
       "2       390        45"
      ]
     },
     "execution_count": 2,
     "metadata": {},
     "output_type": "execute_result"
    }
   ],
   "source": [
    "data = {\n",
    "  \"calories\": [420, 380, 390],\n",
    "  \"duration\": [50, 40, 45]\n",
    "}\n",
    "df = pd.DataFrame(data)\n",
    "df"
   ]
  },
  {
   "cell_type": "markdown",
   "id": "30c125fb",
   "metadata": {},
   "source": [
    "# Locate Row"
   ]
  },
  {
   "cell_type": "raw",
   "id": "41d8437b",
   "metadata": {},
   "source": [
    "Pandas use the loc attribute to return one or more specified row(s)"
   ]
  },
  {
   "cell_type": "code",
   "execution_count": 4,
   "id": "72853024",
   "metadata": {},
   "outputs": [
    {
     "data": {
      "text/plain": [
       "calories    420\n",
       "duration     50\n",
       "Name: 0, dtype: int64"
      ]
     },
     "execution_count": 4,
     "metadata": {},
     "output_type": "execute_result"
    }
   ],
   "source": [
    "df.loc[0]"
   ]
  },
  {
   "cell_type": "code",
   "execution_count": 8,
   "id": "306cf689",
   "metadata": {},
   "outputs": [
    {
     "data": {
      "text/html": [
       "<div>\n",
       "<style scoped>\n",
       "    .dataframe tbody tr th:only-of-type {\n",
       "        vertical-align: middle;\n",
       "    }\n",
       "\n",
       "    .dataframe tbody tr th {\n",
       "        vertical-align: top;\n",
       "    }\n",
       "\n",
       "    .dataframe thead th {\n",
       "        text-align: right;\n",
       "    }\n",
       "</style>\n",
       "<table border=\"1\" class=\"dataframe\">\n",
       "  <thead>\n",
       "    <tr style=\"text-align: right;\">\n",
       "      <th></th>\n",
       "      <th>calories</th>\n",
       "      <th>duration</th>\n",
       "    </tr>\n",
       "  </thead>\n",
       "  <tbody>\n",
       "    <tr>\n",
       "      <th>0</th>\n",
       "      <td>420</td>\n",
       "      <td>50</td>\n",
       "    </tr>\n",
       "    <tr>\n",
       "      <th>1</th>\n",
       "      <td>380</td>\n",
       "      <td>40</td>\n",
       "    </tr>\n",
       "  </tbody>\n",
       "</table>\n",
       "</div>"
      ],
      "text/plain": [
       "   calories  duration\n",
       "0       420        50\n",
       "1       380        40"
      ]
     },
     "execution_count": 8,
     "metadata": {},
     "output_type": "execute_result"
    }
   ],
   "source": [
    "df.loc[[0,1]]"
   ]
  },
  {
   "cell_type": "markdown",
   "id": "44ad10e4",
   "metadata": {},
   "source": [
    "# Named Indexes"
   ]
  },
  {
   "cell_type": "raw",
   "id": "a54d84de",
   "metadata": {},
   "source": [
    "With the index argument, you can name your own indexes.\n",
    "Example :\n",
    "Add a list of names to give each row a name:"
   ]
  },
  {
   "cell_type": "code",
   "execution_count": 9,
   "id": "b950a5c3",
   "metadata": {},
   "outputs": [],
   "source": [
    "df = pd.DataFrame(data,index = [\"day1\",\"day2\",\"day3\"])"
   ]
  },
  {
   "cell_type": "code",
   "execution_count": 10,
   "id": "1f5c7611",
   "metadata": {},
   "outputs": [
    {
     "data": {
      "text/html": [
       "<div>\n",
       "<style scoped>\n",
       "    .dataframe tbody tr th:only-of-type {\n",
       "        vertical-align: middle;\n",
       "    }\n",
       "\n",
       "    .dataframe tbody tr th {\n",
       "        vertical-align: top;\n",
       "    }\n",
       "\n",
       "    .dataframe thead th {\n",
       "        text-align: right;\n",
       "    }\n",
       "</style>\n",
       "<table border=\"1\" class=\"dataframe\">\n",
       "  <thead>\n",
       "    <tr style=\"text-align: right;\">\n",
       "      <th></th>\n",
       "      <th>calories</th>\n",
       "      <th>duration</th>\n",
       "    </tr>\n",
       "  </thead>\n",
       "  <tbody>\n",
       "    <tr>\n",
       "      <th>day1</th>\n",
       "      <td>420</td>\n",
       "      <td>50</td>\n",
       "    </tr>\n",
       "    <tr>\n",
       "      <th>day2</th>\n",
       "      <td>380</td>\n",
       "      <td>40</td>\n",
       "    </tr>\n",
       "    <tr>\n",
       "      <th>day3</th>\n",
       "      <td>390</td>\n",
       "      <td>45</td>\n",
       "    </tr>\n",
       "  </tbody>\n",
       "</table>\n",
       "</div>"
      ],
      "text/plain": [
       "      calories  duration\n",
       "day1       420        50\n",
       "day2       380        40\n",
       "day3       390        45"
      ]
     },
     "execution_count": 10,
     "metadata": {},
     "output_type": "execute_result"
    }
   ],
   "source": [
    "df"
   ]
  },
  {
   "cell_type": "code",
   "execution_count": 12,
   "id": "f156ddb1",
   "metadata": {},
   "outputs": [
    {
     "data": {
      "text/plain": [
       "calories    420\n",
       "duration     50\n",
       "Name: day1, dtype: int64"
      ]
     },
     "execution_count": 12,
     "metadata": {},
     "output_type": "execute_result"
    }
   ],
   "source": [
    "df.loc['day1']"
   ]
  },
  {
   "cell_type": "markdown",
   "id": "7a7241b8",
   "metadata": {},
   "source": [
    "# Load Files Into a DataFrame"
   ]
  },
  {
   "cell_type": "raw",
   "id": "844d3a2f",
   "metadata": {},
   "source": [
    "If your data sets are stored in a file, Pandas can load them into a DataFrame.\n",
    "Example :\n",
    "Load a comma separated file (CSV file) into a DataFrame:"
   ]
  },
  {
   "cell_type": "code",
   "execution_count": 14,
   "id": "31a5b8bf",
   "metadata": {},
   "outputs": [],
   "source": [
    "df = pd.read_csv('data.csv')"
   ]
  },
  {
   "cell_type": "code",
   "execution_count": 15,
   "id": "436b84c5",
   "metadata": {},
   "outputs": [
    {
     "data": {
      "text/html": [
       "<div>\n",
       "<style scoped>\n",
       "    .dataframe tbody tr th:only-of-type {\n",
       "        vertical-align: middle;\n",
       "    }\n",
       "\n",
       "    .dataframe tbody tr th {\n",
       "        vertical-align: top;\n",
       "    }\n",
       "\n",
       "    .dataframe thead th {\n",
       "        text-align: right;\n",
       "    }\n",
       "</style>\n",
       "<table border=\"1\" class=\"dataframe\">\n",
       "  <thead>\n",
       "    <tr style=\"text-align: right;\">\n",
       "      <th></th>\n",
       "      <th>Gender</th>\n",
       "      <th>Age</th>\n",
       "      <th>Salary</th>\n",
       "      <th>Purchase Iphone</th>\n",
       "    </tr>\n",
       "  </thead>\n",
       "  <tbody>\n",
       "    <tr>\n",
       "      <th>0</th>\n",
       "      <td>Male</td>\n",
       "      <td>19</td>\n",
       "      <td>19000</td>\n",
       "      <td>0</td>\n",
       "    </tr>\n",
       "    <tr>\n",
       "      <th>1</th>\n",
       "      <td>Male</td>\n",
       "      <td>35</td>\n",
       "      <td>20000</td>\n",
       "      <td>0</td>\n",
       "    </tr>\n",
       "    <tr>\n",
       "      <th>2</th>\n",
       "      <td>Female</td>\n",
       "      <td>26</td>\n",
       "      <td>43000</td>\n",
       "      <td>0</td>\n",
       "    </tr>\n",
       "    <tr>\n",
       "      <th>3</th>\n",
       "      <td>Female</td>\n",
       "      <td>27</td>\n",
       "      <td>57000</td>\n",
       "      <td>0</td>\n",
       "    </tr>\n",
       "    <tr>\n",
       "      <th>4</th>\n",
       "      <td>Male</td>\n",
       "      <td>19</td>\n",
       "      <td>76000</td>\n",
       "      <td>0</td>\n",
       "    </tr>\n",
       "    <tr>\n",
       "      <th>...</th>\n",
       "      <td>...</td>\n",
       "      <td>...</td>\n",
       "      <td>...</td>\n",
       "      <td>...</td>\n",
       "    </tr>\n",
       "    <tr>\n",
       "      <th>395</th>\n",
       "      <td>Female</td>\n",
       "      <td>46</td>\n",
       "      <td>41000</td>\n",
       "      <td>1</td>\n",
       "    </tr>\n",
       "    <tr>\n",
       "      <th>396</th>\n",
       "      <td>Male</td>\n",
       "      <td>51</td>\n",
       "      <td>23000</td>\n",
       "      <td>1</td>\n",
       "    </tr>\n",
       "    <tr>\n",
       "      <th>397</th>\n",
       "      <td>Female</td>\n",
       "      <td>50</td>\n",
       "      <td>20000</td>\n",
       "      <td>1</td>\n",
       "    </tr>\n",
       "    <tr>\n",
       "      <th>398</th>\n",
       "      <td>Male</td>\n",
       "      <td>36</td>\n",
       "      <td>33000</td>\n",
       "      <td>0</td>\n",
       "    </tr>\n",
       "    <tr>\n",
       "      <th>399</th>\n",
       "      <td>Female</td>\n",
       "      <td>49</td>\n",
       "      <td>36000</td>\n",
       "      <td>1</td>\n",
       "    </tr>\n",
       "  </tbody>\n",
       "</table>\n",
       "<p>400 rows × 4 columns</p>\n",
       "</div>"
      ],
      "text/plain": [
       "     Gender  Age  Salary  Purchase Iphone\n",
       "0      Male   19   19000                0\n",
       "1      Male   35   20000                0\n",
       "2    Female   26   43000                0\n",
       "3    Female   27   57000                0\n",
       "4      Male   19   76000                0\n",
       "..      ...  ...     ...              ...\n",
       "395  Female   46   41000                1\n",
       "396    Male   51   23000                1\n",
       "397  Female   50   20000                1\n",
       "398    Male   36   33000                0\n",
       "399  Female   49   36000                1\n",
       "\n",
       "[400 rows x 4 columns]"
      ]
     },
     "execution_count": 15,
     "metadata": {},
     "output_type": "execute_result"
    }
   ],
   "source": [
    "df"
   ]
  },
  {
   "cell_type": "code",
   "execution_count": 16,
   "id": "e1fe86d2",
   "metadata": {},
   "outputs": [
    {
     "data": {
      "text/plain": [
       "Gender              Male\n",
       "Age                   19\n",
       "Salary             19000\n",
       "Purchase Iphone        0\n",
       "Name: 0, dtype: object"
      ]
     },
     "execution_count": 16,
     "metadata": {},
     "output_type": "execute_result"
    }
   ],
   "source": [
    "df.loc[0]"
   ]
  },
  {
   "cell_type": "code",
   "execution_count": 17,
   "id": "e93359cc",
   "metadata": {},
   "outputs": [
    {
     "data": {
      "text/plain": [
       "'     Gender  Age  Salary  Purchase Iphone\\n0      Male   19   19000                0\\n1      Male   35   20000                0\\n2    Female   26   43000                0\\n3    Female   27   57000                0\\n4      Male   19   76000                0\\n5      Male   27   58000                0\\n6    Female   27   84000                0\\n7    Female   32  150000                1\\n8      Male   25   33000                0\\n9    Female   35   65000                0\\n10   Female   26   80000                0\\n11   Female   26   52000                0\\n12     Male   20   86000                0\\n13     Male   32   18000                0\\n14     Male   18   82000                0\\n15     Male   29   80000                0\\n16     Male   47   25000                1\\n17     Male   45   26000                1\\n18     Male   46   28000                1\\n19   Female   48   29000                1\\n20     Male   45   22000                1\\n21   Female   47   49000                1\\n22     Male   48   41000                1\\n23   Female   45   22000                1\\n24     Male   46   23000                1\\n25     Male   47   20000                1\\n26     Male   49   28000                1\\n27   Female   47   30000                1\\n28     Male   29   43000                0\\n29     Male   31   18000                0\\n30     Male   31   74000                0\\n31   Female   27  137000                1\\n32   Female   21   16000                0\\n33   Female   28   44000                0\\n34     Male   27   90000                0\\n35     Male   35   27000                0\\n36   Female   33   28000                0\\n37     Male   30   49000                0\\n38   Female   26   72000                0\\n39   Female   27   31000                0\\n40   Female   27   17000                0\\n41   Female   33   51000                0\\n42     Male   35  108000                0\\n43     Male   30   15000                0\\n44   Female   28   84000                0\\n45     Male   23   20000                0\\n46     Male   25   79000                0\\n47   Female   27   54000                0\\n48     Male   30  135000                1\\n49   Female   31   89000                0\\n50   Female   24   32000                0\\n51   Female   18   44000                0\\n52   Female   29   83000                0\\n53   Female   35   23000                0\\n54   Female   27   58000                0\\n55   Female   24   55000                0\\n56   Female   23   48000                0\\n57     Male   28   79000                0\\n58     Male   22   18000                0\\n59   Female   32  117000                0\\n60     Male   27   20000                0\\n61     Male   25   87000                0\\n62   Female   23   66000                0\\n63     Male   32  120000                1\\n64   Female   59   83000                0\\n65     Male   24   58000                0\\n66     Male   24   19000                0\\n67   Female   23   82000                0\\n68   Female   22   63000                0\\n69   Female   31   68000                0\\n70     Male   25   80000                0\\n71   Female   24   27000                0\\n72   Female   20   23000                0\\n73   Female   33  113000                0\\n74     Male   32   18000                0\\n75     Male   34  112000                1\\n76     Male   18   52000                0\\n77   Female   22   27000                0\\n78   Female   28   87000                0\\n79   Female   26   17000                0\\n80     Male   30   80000                0\\n81     Male   39   42000                0\\n82     Male   20   49000                0\\n83     Male   35   88000                0\\n84   Female   30   62000                0\\n85   Female   31  118000                1\\n86     Male   24   55000                0\\n87   Female   28   85000                0\\n88     Male   26   81000                0\\n89     Male   35   50000                0\\n90     Male   22   81000                0\\n91   Female   30  116000                0\\n92     Male   26   15000                0\\n93   Female   29   28000                0\\n94   Female   29   83000                0\\n95   Female   35   44000                0\\n96   Female   35   25000                0\\n97     Male   28  123000                1\\n98     Male   35   73000                0\\n99   Female   28   37000                0\\n100    Male   27   88000                0\\n101    Male   28   59000                0\\n102  Female   32   86000                0\\n103  Female   33  149000                1\\n104  Female   19   21000                0\\n105    Male   21   72000                0\\n106  Female   26   35000                0\\n107    Male   27   89000                0\\n108    Male   26   86000                0\\n109  Female   38   80000                0\\n110  Female   39   71000                0\\n111  Female   37   71000                0\\n112    Male   38   61000                0\\n113    Male   37   55000                0\\n114    Male   42   80000                0\\n115    Male   40   57000                0\\n116    Male   35   75000                0\\n117    Male   36   52000                0\\n118    Male   40   59000                0\\n119    Male   41   59000                0\\n120  Female   36   75000                0\\n121    Male   37   72000                0\\n122  Female   40   75000                0\\n123    Male   35   53000                0\\n124  Female   41   51000                0\\n125  Female   39   61000                0\\n126    Male   42   65000                0\\n127    Male   26   32000                0\\n128    Male   30   17000                0\\n129  Female   26   84000                0\\n130    Male   31   58000                0\\n131    Male   33   31000                0\\n132    Male   30   87000                0\\n133  Female   21   68000                0\\n134  Female   28   55000                0\\n135    Male   23   63000                0\\n136  Female   20   82000                0\\n137    Male   30  107000                1\\n138  Female   28   59000                0\\n139    Male   19   25000                0\\n140    Male   19   85000                0\\n141  Female   18   68000                0\\n142    Male   35   59000                0\\n143    Male   30   89000                0\\n144  Female   34   25000                0\\n145  Female   24   89000                0\\n146  Female   27   96000                1\\n147  Female   41   30000                0\\n148    Male   29   61000                0\\n149    Male   20   74000                0\\n150  Female   26   15000                0\\n151    Male   41   45000                0\\n152    Male   31   76000                0\\n153  Female   36   50000                0\\n154    Male   40   47000                0\\n155  Female   31   15000                0\\n156    Male   46   59000                0\\n157    Male   29   75000                0\\n158    Male   26   30000                0\\n159  Female   32  135000                1\\n160    Male   32  100000                1\\n161    Male   25   90000                0\\n162  Female   37   33000                0\\n163    Male   35   38000                0\\n164  Female   33   69000                0\\n165  Female   18   86000                0\\n166  Female   22   55000                0\\n167  Female   35   71000                0\\n168    Male   29  148000                1\\n169  Female   29   47000                0\\n170    Male   21   88000                0\\n171    Male   34  115000                0\\n172  Female   26  118000                0\\n173  Female   34   43000                0\\n174  Female   34   72000                0\\n175  Female   23   28000                0\\n176  Female   35   47000                0\\n177    Male   25   22000                0\\n178    Male   24   23000                0\\n179  Female   31   34000                0\\n180    Male   26   16000                0\\n181  Female   31   71000                0\\n182  Female   32  117000                1\\n183    Male   33   43000                0\\n184  Female   33   60000                0\\n185    Male   31   66000                0\\n186  Female   20   82000                0\\n187  Female   33   41000                0\\n188    Male   35   72000                0\\n189    Male   28   32000                0\\n190    Male   24   84000                0\\n191  Female   19   26000                0\\n192    Male   29   43000                0\\n193    Male   19   70000                0\\n194    Male   28   89000                0\\n195    Male   34   43000                0\\n196  Female   30   79000                0\\n197  Female   20   36000                0\\n198    Male   26   80000                0\\n199    Male   35   22000                0\\n200    Male   35   39000                0\\n201    Male   49   74000                0\\n202  Female   39  134000                1\\n203  Female   41   71000                0\\n204  Female   58  101000                1\\n205  Female   47   47000                0\\n206  Female   55  130000                1\\n207  Female   52  114000                0\\n208  Female   40  142000                1\\n209  Female   46   22000                0\\n210  Female   48   96000                1\\n211    Male   52  150000                1\\n212  Female   59   42000                0\\n213    Male   35   58000                0\\n214    Male   47   43000                0\\n215  Female   60  108000                1\\n216    Male   49   65000                0\\n217    Male   40   78000                0\\n218  Female   46   96000                0\\n219    Male   59  143000                1\\n220  Female   41   80000                0\\n221    Male   35   91000                1\\n222    Male   37  144000                1\\n223    Male   60  102000                1\\n224  Female   35   60000                0\\n225    Male   37   53000                0\\n226  Female   36  126000                1\\n227    Male   56  133000                1\\n228  Female   40   72000                0\\n229  Female   42   80000                1\\n230  Female   35  147000                1\\n231    Male   39   42000                0\\n232    Male   40  107000                1\\n233    Male   49   86000                1\\n234  Female   38  112000                0\\n235    Male   46   79000                1\\n236    Male   40   57000                0\\n237  Female   37   80000                0\\n238  Female   46   82000                0\\n239  Female   53  143000                1\\n240    Male   42  149000                1\\n241    Male   38   59000                0\\n242  Female   50   88000                1\\n243  Female   56  104000                1\\n244  Female   41   72000                0\\n245  Female   51  146000                1\\n246  Female   35   50000                0\\n247  Female   57  122000                1\\n248    Male   41   52000                0\\n249  Female   35   97000                1\\n250  Female   44   39000                0\\n251    Male   37   52000                0\\n252  Female   48  134000                1\\n253  Female   37  146000                1\\n254  Female   50   44000                0\\n255  Female   52   90000                1\\n256  Female   41   72000                0\\n257    Male   40   57000                0\\n258  Female   58   95000                1\\n259  Female   45  131000                1\\n260  Female   35   77000                0\\n261    Male   36  144000                1\\n262  Female   55  125000                1\\n263  Female   35   72000                0\\n264    Male   48   90000                1\\n265  Female   42  108000                1\\n266    Male   40   75000                0\\n267    Male   37   74000                0\\n268  Female   47  144000                1\\n269    Male   40   61000                0\\n270  Female   43  133000                0\\n271  Female   59   76000                1\\n272    Male   60   42000                1\\n273    Male   39  106000                1\\n274  Female   57   26000                1\\n275    Male   57   74000                1\\n276    Male   38   71000                0\\n277    Male   49   88000                1\\n278  Female   52   38000                1\\n279  Female   50   36000                1\\n280  Female   59   88000                1\\n281    Male   35   61000                0\\n282    Male   37   70000                1\\n283  Female   52   21000                1\\n284    Male   48  141000                0\\n285  Female   37   93000                1\\n286  Female   37   62000                0\\n287  Female   48  138000                1\\n288    Male   41   79000                0\\n289  Female   37   78000                1\\n290    Male   39  134000                1\\n291    Male   49   89000                1\\n292    Male   55   39000                1\\n293    Male   37   77000                0\\n294  Female   35   57000                0\\n295  Female   36   63000                0\\n296    Male   42   73000                1\\n297  Female   43  112000                1\\n298    Male   45   79000                0\\n299    Male   46  117000                1\\n300  Female   58   38000                1\\n301    Male   48   74000                1\\n302  Female   37  137000                1\\n303    Male   37   79000                1\\n304  Female   40   60000                0\\n305    Male   42   54000                0\\n306  Female   51  134000                0\\n307  Female   47  113000                1\\n308    Male   36  125000                1\\n309  Female   38   50000                0\\n310  Female   42   70000                0\\n311    Male   39   96000                1\\n312  Female   38   50000                0\\n313  Female   49  141000                1\\n314  Female   39   79000                0\\n315  Female   39   75000                1\\n316  Female   54  104000                1\\n317    Male   35   55000                0\\n318    Male   45   32000                1\\n319    Male   36   60000                0\\n320  Female   52  138000                1\\n321  Female   53   82000                1\\n322    Male   41   52000                0\\n323  Female   48   30000                1\\n324  Female   48  131000                1\\n325  Female   41   60000                0\\n326    Male   41   72000                0\\n327  Female   42   75000                0\\n328    Male   36  118000                1\\n329  Female   47  107000                1\\n330    Male   38   51000                0\\n331  Female   48  119000                1\\n332    Male   42   65000                0\\n333    Male   40   65000                0\\n334    Male   57   60000                1\\n335  Female   36   54000                0\\n336    Male   58  144000                1\\n337    Male   35   79000                0\\n338  Female   38   55000                0\\n339    Male   39  122000                1\\n340  Female   53  104000                1\\n341    Male   35   75000                0\\n342  Female   38   65000                0\\n343  Female   47   51000                1\\n344    Male   47  105000                1\\n345  Female   41   63000                0\\n346    Male   53   72000                1\\n347  Female   54  108000                1\\n348    Male   39   77000                0\\n349    Male   38   61000                0\\n350  Female   38  113000                1\\n351    Male   37   75000                0\\n352  Female   42   90000                1\\n353  Female   37   57000                0\\n354    Male   36   99000                1\\n355    Male   60   34000                1\\n356    Male   54   70000                1\\n357  Female   41   72000                0\\n358    Male   40   71000                1\\n359    Male   42   54000                0\\n360    Male   43  129000                1\\n361  Female   53   34000                1\\n362  Female   47   50000                1\\n363  Female   42   79000                0\\n364    Male   42  104000                1\\n365  Female   59   29000                1\\n366  Female   58   47000                1\\n367    Male   46   88000                1\\n368    Male   38   71000                0\\n369  Female   54   26000                1\\n370  Female   60   46000                1\\n371    Male   60   83000                1\\n372  Female   39   73000                0\\n373    Male   59  130000                1\\n374  Female   37   80000                0\\n375  Female   46   32000                1\\n376  Female   46   74000                0\\n377  Female   42   53000                0\\n378    Male   41   87000                1\\n379  Female   58   23000                1\\n380    Male   42   64000                0\\n381    Male   48   33000                1\\n382  Female   44  139000                1\\n383    Male   49   28000                1\\n384  Female   57   33000                1\\n385    Male   56   60000                1\\n386  Female   49   39000                1\\n387    Male   39   71000                0\\n388    Male   47   34000                1\\n389  Female   48   35000                1\\n390    Male   48   33000                1\\n391    Male   47   23000                1\\n392  Female   45   45000                1\\n393    Male   60   42000                1\\n394  Female   39   59000                0\\n395  Female   46   41000                1\\n396    Male   51   23000                1\\n397  Female   50   20000                1\\n398    Male   36   33000                0\\n399  Female   49   36000                1'"
      ]
     },
     "execution_count": 17,
     "metadata": {},
     "output_type": "execute_result"
    }
   ],
   "source": [
    "df.to_string()"
   ]
  },
  {
   "cell_type": "markdown",
   "id": "fdb61db1",
   "metadata": {},
   "source": [
    "# max_rows"
   ]
  },
  {
   "cell_type": "raw",
   "id": "e4b83df2",
   "metadata": {},
   "source": [
    "The number of rows returned is defined in Pandas option settings.\n",
    "You can check your system's maximum rows with the pd.options.display.max_rows statement.\n",
    "Example :\n",
    "Check the number of maximum returned rows:"
   ]
  },
  {
   "cell_type": "code",
   "execution_count": 18,
   "id": "01703c65",
   "metadata": {},
   "outputs": [
    {
     "data": {
      "text/plain": [
       "60"
      ]
     },
     "execution_count": 18,
     "metadata": {},
     "output_type": "execute_result"
    }
   ],
   "source": [
    "pd.options.display.max_rows"
   ]
  },
  {
   "cell_type": "markdown",
   "id": "f95fe23a",
   "metadata": {},
   "source": [
    "# Pandas - Analyzing DataFrames"
   ]
  },
  {
   "cell_type": "raw",
   "id": "a6dd10bc",
   "metadata": {},
   "source": [
    "Viewing the Data\n",
    "One of the most used method for getting a quick overview of the DataFrame, is the head() method.\n",
    "The head() method returns the headers and a specified number of rows, starting from the top.\n",
    "Example :\n",
    "Get a quick overview by printing the first 10 rows of the DataFrame:"
   ]
  },
  {
   "cell_type": "code",
   "execution_count": 19,
   "id": "b999b7ab",
   "metadata": {},
   "outputs": [
    {
     "data": {
      "text/html": [
       "<div>\n",
       "<style scoped>\n",
       "    .dataframe tbody tr th:only-of-type {\n",
       "        vertical-align: middle;\n",
       "    }\n",
       "\n",
       "    .dataframe tbody tr th {\n",
       "        vertical-align: top;\n",
       "    }\n",
       "\n",
       "    .dataframe thead th {\n",
       "        text-align: right;\n",
       "    }\n",
       "</style>\n",
       "<table border=\"1\" class=\"dataframe\">\n",
       "  <thead>\n",
       "    <tr style=\"text-align: right;\">\n",
       "      <th></th>\n",
       "      <th>Gender</th>\n",
       "      <th>Age</th>\n",
       "      <th>Salary</th>\n",
       "      <th>Purchase Iphone</th>\n",
       "    </tr>\n",
       "  </thead>\n",
       "  <tbody>\n",
       "    <tr>\n",
       "      <th>0</th>\n",
       "      <td>Male</td>\n",
       "      <td>19</td>\n",
       "      <td>19000</td>\n",
       "      <td>0</td>\n",
       "    </tr>\n",
       "    <tr>\n",
       "      <th>1</th>\n",
       "      <td>Male</td>\n",
       "      <td>35</td>\n",
       "      <td>20000</td>\n",
       "      <td>0</td>\n",
       "    </tr>\n",
       "    <tr>\n",
       "      <th>2</th>\n",
       "      <td>Female</td>\n",
       "      <td>26</td>\n",
       "      <td>43000</td>\n",
       "      <td>0</td>\n",
       "    </tr>\n",
       "    <tr>\n",
       "      <th>3</th>\n",
       "      <td>Female</td>\n",
       "      <td>27</td>\n",
       "      <td>57000</td>\n",
       "      <td>0</td>\n",
       "    </tr>\n",
       "    <tr>\n",
       "      <th>4</th>\n",
       "      <td>Male</td>\n",
       "      <td>19</td>\n",
       "      <td>76000</td>\n",
       "      <td>0</td>\n",
       "    </tr>\n",
       "    <tr>\n",
       "      <th>5</th>\n",
       "      <td>Male</td>\n",
       "      <td>27</td>\n",
       "      <td>58000</td>\n",
       "      <td>0</td>\n",
       "    </tr>\n",
       "    <tr>\n",
       "      <th>6</th>\n",
       "      <td>Female</td>\n",
       "      <td>27</td>\n",
       "      <td>84000</td>\n",
       "      <td>0</td>\n",
       "    </tr>\n",
       "    <tr>\n",
       "      <th>7</th>\n",
       "      <td>Female</td>\n",
       "      <td>32</td>\n",
       "      <td>150000</td>\n",
       "      <td>1</td>\n",
       "    </tr>\n",
       "    <tr>\n",
       "      <th>8</th>\n",
       "      <td>Male</td>\n",
       "      <td>25</td>\n",
       "      <td>33000</td>\n",
       "      <td>0</td>\n",
       "    </tr>\n",
       "    <tr>\n",
       "      <th>9</th>\n",
       "      <td>Female</td>\n",
       "      <td>35</td>\n",
       "      <td>65000</td>\n",
       "      <td>0</td>\n",
       "    </tr>\n",
       "  </tbody>\n",
       "</table>\n",
       "</div>"
      ],
      "text/plain": [
       "   Gender  Age  Salary  Purchase Iphone\n",
       "0    Male   19   19000                0\n",
       "1    Male   35   20000                0\n",
       "2  Female   26   43000                0\n",
       "3  Female   27   57000                0\n",
       "4    Male   19   76000                0\n",
       "5    Male   27   58000                0\n",
       "6  Female   27   84000                0\n",
       "7  Female   32  150000                1\n",
       "8    Male   25   33000                0\n",
       "9  Female   35   65000                0"
      ]
     },
     "execution_count": 19,
     "metadata": {},
     "output_type": "execute_result"
    }
   ],
   "source": [
    "df.head(10)"
   ]
  },
  {
   "cell_type": "raw",
   "id": "c33977d1",
   "metadata": {},
   "source": [
    "Note: if the number of rows is not specified, the head() method will return the top 5 rows.\n",
    "Example :\n",
    "Print the first 5 rows of the DataFrame:"
   ]
  },
  {
   "cell_type": "code",
   "execution_count": 20,
   "id": "1f07ad3e",
   "metadata": {},
   "outputs": [
    {
     "data": {
      "text/html": [
       "<div>\n",
       "<style scoped>\n",
       "    .dataframe tbody tr th:only-of-type {\n",
       "        vertical-align: middle;\n",
       "    }\n",
       "\n",
       "    .dataframe tbody tr th {\n",
       "        vertical-align: top;\n",
       "    }\n",
       "\n",
       "    .dataframe thead th {\n",
       "        text-align: right;\n",
       "    }\n",
       "</style>\n",
       "<table border=\"1\" class=\"dataframe\">\n",
       "  <thead>\n",
       "    <tr style=\"text-align: right;\">\n",
       "      <th></th>\n",
       "      <th>Gender</th>\n",
       "      <th>Age</th>\n",
       "      <th>Salary</th>\n",
       "      <th>Purchase Iphone</th>\n",
       "    </tr>\n",
       "  </thead>\n",
       "  <tbody>\n",
       "    <tr>\n",
       "      <th>0</th>\n",
       "      <td>Male</td>\n",
       "      <td>19</td>\n",
       "      <td>19000</td>\n",
       "      <td>0</td>\n",
       "    </tr>\n",
       "    <tr>\n",
       "      <th>1</th>\n",
       "      <td>Male</td>\n",
       "      <td>35</td>\n",
       "      <td>20000</td>\n",
       "      <td>0</td>\n",
       "    </tr>\n",
       "    <tr>\n",
       "      <th>2</th>\n",
       "      <td>Female</td>\n",
       "      <td>26</td>\n",
       "      <td>43000</td>\n",
       "      <td>0</td>\n",
       "    </tr>\n",
       "    <tr>\n",
       "      <th>3</th>\n",
       "      <td>Female</td>\n",
       "      <td>27</td>\n",
       "      <td>57000</td>\n",
       "      <td>0</td>\n",
       "    </tr>\n",
       "    <tr>\n",
       "      <th>4</th>\n",
       "      <td>Male</td>\n",
       "      <td>19</td>\n",
       "      <td>76000</td>\n",
       "      <td>0</td>\n",
       "    </tr>\n",
       "  </tbody>\n",
       "</table>\n",
       "</div>"
      ],
      "text/plain": [
       "   Gender  Age  Salary  Purchase Iphone\n",
       "0    Male   19   19000                0\n",
       "1    Male   35   20000                0\n",
       "2  Female   26   43000                0\n",
       "3  Female   27   57000                0\n",
       "4    Male   19   76000                0"
      ]
     },
     "execution_count": 20,
     "metadata": {},
     "output_type": "execute_result"
    }
   ],
   "source": [
    "df.head()"
   ]
  },
  {
   "cell_type": "raw",
   "id": "253fa840",
   "metadata": {},
   "source": [
    "There is also a tail() method for viewing the last rows of the DataFrame.\n",
    "The tail() method returns the headers and a specified number of rows, starting from the bottom."
   ]
  },
  {
   "cell_type": "code",
   "execution_count": 21,
   "id": "4f436ce9",
   "metadata": {},
   "outputs": [
    {
     "data": {
      "text/html": [
       "<div>\n",
       "<style scoped>\n",
       "    .dataframe tbody tr th:only-of-type {\n",
       "        vertical-align: middle;\n",
       "    }\n",
       "\n",
       "    .dataframe tbody tr th {\n",
       "        vertical-align: top;\n",
       "    }\n",
       "\n",
       "    .dataframe thead th {\n",
       "        text-align: right;\n",
       "    }\n",
       "</style>\n",
       "<table border=\"1\" class=\"dataframe\">\n",
       "  <thead>\n",
       "    <tr style=\"text-align: right;\">\n",
       "      <th></th>\n",
       "      <th>Gender</th>\n",
       "      <th>Age</th>\n",
       "      <th>Salary</th>\n",
       "      <th>Purchase Iphone</th>\n",
       "    </tr>\n",
       "  </thead>\n",
       "  <tbody>\n",
       "    <tr>\n",
       "      <th>395</th>\n",
       "      <td>Female</td>\n",
       "      <td>46</td>\n",
       "      <td>41000</td>\n",
       "      <td>1</td>\n",
       "    </tr>\n",
       "    <tr>\n",
       "      <th>396</th>\n",
       "      <td>Male</td>\n",
       "      <td>51</td>\n",
       "      <td>23000</td>\n",
       "      <td>1</td>\n",
       "    </tr>\n",
       "    <tr>\n",
       "      <th>397</th>\n",
       "      <td>Female</td>\n",
       "      <td>50</td>\n",
       "      <td>20000</td>\n",
       "      <td>1</td>\n",
       "    </tr>\n",
       "    <tr>\n",
       "      <th>398</th>\n",
       "      <td>Male</td>\n",
       "      <td>36</td>\n",
       "      <td>33000</td>\n",
       "      <td>0</td>\n",
       "    </tr>\n",
       "    <tr>\n",
       "      <th>399</th>\n",
       "      <td>Female</td>\n",
       "      <td>49</td>\n",
       "      <td>36000</td>\n",
       "      <td>1</td>\n",
       "    </tr>\n",
       "  </tbody>\n",
       "</table>\n",
       "</div>"
      ],
      "text/plain": [
       "     Gender  Age  Salary  Purchase Iphone\n",
       "395  Female   46   41000                1\n",
       "396    Male   51   23000                1\n",
       "397  Female   50   20000                1\n",
       "398    Male   36   33000                0\n",
       "399  Female   49   36000                1"
      ]
     },
     "execution_count": 21,
     "metadata": {},
     "output_type": "execute_result"
    }
   ],
   "source": [
    "df.tail()"
   ]
  },
  {
   "cell_type": "markdown",
   "id": "b5418a00",
   "metadata": {},
   "source": [
    "# Info About the Data"
   ]
  },
  {
   "cell_type": "raw",
   "id": "7e67ce75",
   "metadata": {},
   "source": [
    "The DataFrames object has a method called info(), that gives you more information about the data set.\n",
    "Example :\n",
    "Print information about the data:"
   ]
  },
  {
   "cell_type": "code",
   "execution_count": 22,
   "id": "694e39a6",
   "metadata": {},
   "outputs": [
    {
     "name": "stdout",
     "output_type": "stream",
     "text": [
      "<class 'pandas.core.frame.DataFrame'>\n",
      "RangeIndex: 400 entries, 0 to 399\n",
      "Data columns (total 4 columns):\n",
      " #   Column           Non-Null Count  Dtype \n",
      "---  ------           --------------  ----- \n",
      " 0   Gender           400 non-null    object\n",
      " 1   Age              400 non-null    int64 \n",
      " 2   Salary           400 non-null    int64 \n",
      " 3   Purchase Iphone  400 non-null    int64 \n",
      "dtypes: int64(3), object(1)\n",
      "memory usage: 12.6+ KB\n"
     ]
    }
   ],
   "source": [
    "df.info()"
   ]
  },
  {
   "cell_type": "code",
   "execution_count": null,
   "id": "b111d59f",
   "metadata": {},
   "outputs": [],
   "source": []
  }
 ],
 "metadata": {
  "kernelspec": {
   "display_name": "Python 3 (ipykernel)",
   "language": "python",
   "name": "python3"
  },
  "language_info": {
   "codemirror_mode": {
    "name": "ipython",
    "version": 3
   },
   "file_extension": ".py",
   "mimetype": "text/x-python",
   "name": "python",
   "nbconvert_exporter": "python",
   "pygments_lexer": "ipython3",
   "version": "3.9.7"
  }
 },
 "nbformat": 4,
 "nbformat_minor": 5
}
